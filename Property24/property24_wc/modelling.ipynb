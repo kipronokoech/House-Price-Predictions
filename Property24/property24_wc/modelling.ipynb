{
 "cells": [
  {
   "cell_type": "code",
   "execution_count": 695,
   "metadata": {},
   "outputs": [],
   "source": [
    "import pandas as pd\n",
    "import numpy as np\n",
    "# Define format for floating-point numbers. Just to avoid numbers like 2.486000e+04\n",
    "pd.options.display.float_format = '{:.2f}'.format\n",
    "import seaborn as sns \n",
    "sns.set_theme(style=\"whitegrid\")\n",
    "palette=\"viridis\"\n",
    "from matplotlib import pyplot as plt\n"
   ]
  },
  {
   "cell_type": "code",
   "execution_count": 696,
   "metadata": {},
   "outputs": [
    {
     "data": {
      "text/html": [
       "<div>\n",
       "<style scoped>\n",
       "    .dataframe tbody tr th:only-of-type {\n",
       "        vertical-align: middle;\n",
       "    }\n",
       "\n",
       "    .dataframe tbody tr th {\n",
       "        vertical-align: top;\n",
       "    }\n",
       "\n",
       "    .dataframe thead th {\n",
       "        text-align: right;\n",
       "    }\n",
       "</style>\n",
       "<table border=\"1\" class=\"dataframe\">\n",
       "  <thead>\n",
       "    <tr style=\"text-align: right;\">\n",
       "      <th></th>\n",
       "      <th>url</th>\n",
       "      <th>name</th>\n",
       "      <th>Parking Spaces</th>\n",
       "      <th>Floor Size</th>\n",
       "      <th>Garden</th>\n",
       "      <th>Listing Number</th>\n",
       "      <th>Type of Property</th>\n",
       "      <th>Listing Date</th>\n",
       "      <th>Pets Allowed</th>\n",
       "      <th>Reception Rooms</th>\n",
       "      <th>Erf Size</th>\n",
       "      <th>Pool</th>\n",
       "      <th>price2</th>\n",
       "      <th>address</th>\n",
       "      <th>days_since_listing</th>\n",
       "      <th>Bedrooms2</th>\n",
       "      <th>Bathrooms2</th>\n",
       "      <th>Garages</th>\n",
       "      <th>Parking</th>\n",
       "    </tr>\n",
       "  </thead>\n",
       "  <tbody>\n",
       "    <tr>\n",
       "      <th>0</th>\n",
       "      <td>https://www.property24.com/for-sale/val-de-vie...</td>\n",
       "      <td>2 Bedroom Apartment / Flat for Sale</td>\n",
       "      <td>1.00</td>\n",
       "      <td>104.00</td>\n",
       "      <td>Yes</td>\n",
       "      <td>113950647.00</td>\n",
       "      <td>Apartment / Flat</td>\n",
       "      <td>2024-02-05</td>\n",
       "      <td>No</td>\n",
       "      <td>1.00</td>\n",
       "      <td>NaN</td>\n",
       "      <td>No</td>\n",
       "      <td>6600000</td>\n",
       "      <td>Val De Vie Estate</td>\n",
       "      <td>184</td>\n",
       "      <td>2.00</td>\n",
       "      <td>2.00</td>\n",
       "      <td>0.00</td>\n",
       "      <td>1.00</td>\n",
       "    </tr>\n",
       "    <tr>\n",
       "      <th>1</th>\n",
       "      <td>https://www.property24.com/for-sale/villa-diam...</td>\n",
       "      <td>3 Bedroom House for Sale</td>\n",
       "      <td>2.00</td>\n",
       "      <td>216.00</td>\n",
       "      <td>No</td>\n",
       "      <td>114444358.00</td>\n",
       "      <td>House</td>\n",
       "      <td>2024-05-23</td>\n",
       "      <td>Yes</td>\n",
       "      <td>2.00</td>\n",
       "      <td>328.00</td>\n",
       "      <td>No</td>\n",
       "      <td>2595000</td>\n",
       "      <td>Villa Diamante</td>\n",
       "      <td>76</td>\n",
       "      <td>3.00</td>\n",
       "      <td>2.50</td>\n",
       "      <td>1.00</td>\n",
       "      <td>1.00</td>\n",
       "    </tr>\n",
       "    <tr>\n",
       "      <th>2</th>\n",
       "      <td>https://www.property24.com/for-sale/table-view...</td>\n",
       "      <td>2 Bedroom Apartment / Flat for Sale</td>\n",
       "      <td>1.00</td>\n",
       "      <td>59.00</td>\n",
       "      <td>No</td>\n",
       "      <td>114644338.00</td>\n",
       "      <td>Apartment / Flat</td>\n",
       "      <td>2024-07-10</td>\n",
       "      <td>NaN</td>\n",
       "      <td>0.00</td>\n",
       "      <td>NaN</td>\n",
       "      <td>Yes</td>\n",
       "      <td>1295000</td>\n",
       "      <td>Table View</td>\n",
       "      <td>28</td>\n",
       "      <td>2.00</td>\n",
       "      <td>1.00</td>\n",
       "      <td>0.00</td>\n",
       "      <td>1.00</td>\n",
       "    </tr>\n",
       "    <tr>\n",
       "      <th>3</th>\n",
       "      <td>https://www.property24.com/for-sale/bonnie-bra...</td>\n",
       "      <td>5 Bedroom House for Sale</td>\n",
       "      <td>6.00</td>\n",
       "      <td>225.00</td>\n",
       "      <td>No</td>\n",
       "      <td>114531361.00</td>\n",
       "      <td>House</td>\n",
       "      <td>2024-06-13</td>\n",
       "      <td>Yes</td>\n",
       "      <td>0.00</td>\n",
       "      <td>600.00</td>\n",
       "      <td>No</td>\n",
       "      <td>2345000</td>\n",
       "      <td>Bonnie Brae</td>\n",
       "      <td>55</td>\n",
       "      <td>5.00</td>\n",
       "      <td>4.00</td>\n",
       "      <td>2.00</td>\n",
       "      <td>4.00</td>\n",
       "    </tr>\n",
       "    <tr>\n",
       "      <th>4</th>\n",
       "      <td>https://www.property24.com/for-sale/hartenbos-...</td>\n",
       "      <td>4 Bedroom Townhouse for Sale</td>\n",
       "      <td>0.00</td>\n",
       "      <td>96.00</td>\n",
       "      <td>Yes</td>\n",
       "      <td>114754879.00</td>\n",
       "      <td>Townhouse</td>\n",
       "      <td>2024-08-05</td>\n",
       "      <td>NaN</td>\n",
       "      <td>0.00</td>\n",
       "      <td>135.00</td>\n",
       "      <td>Yes</td>\n",
       "      <td>1850000</td>\n",
       "      <td>Hartenbos Central</td>\n",
       "      <td>2</td>\n",
       "      <td>4.00</td>\n",
       "      <td>2.00</td>\n",
       "      <td>0.00</td>\n",
       "      <td>0.00</td>\n",
       "    </tr>\n",
       "  </tbody>\n",
       "</table>\n",
       "</div>"
      ],
      "text/plain": [
       "                                                 url  \\\n",
       "0  https://www.property24.com/for-sale/val-de-vie...   \n",
       "1  https://www.property24.com/for-sale/villa-diam...   \n",
       "2  https://www.property24.com/for-sale/table-view...   \n",
       "3  https://www.property24.com/for-sale/bonnie-bra...   \n",
       "4  https://www.property24.com/for-sale/hartenbos-...   \n",
       "\n",
       "                                  name  Parking Spaces  Floor Size Garden  \\\n",
       "0  2 Bedroom Apartment / Flat for Sale            1.00      104.00    Yes   \n",
       "1             3 Bedroom House for Sale            2.00      216.00     No   \n",
       "2  2 Bedroom Apartment / Flat for Sale            1.00       59.00     No   \n",
       "3             5 Bedroom House for Sale            6.00      225.00     No   \n",
       "4         4 Bedroom Townhouse for Sale            0.00       96.00    Yes   \n",
       "\n",
       "   Listing Number  Type of Property Listing Date Pets Allowed  \\\n",
       "0    113950647.00  Apartment / Flat   2024-02-05           No   \n",
       "1    114444358.00             House   2024-05-23          Yes   \n",
       "2    114644338.00  Apartment / Flat   2024-07-10          NaN   \n",
       "3    114531361.00             House   2024-06-13          Yes   \n",
       "4    114754879.00         Townhouse   2024-08-05          NaN   \n",
       "\n",
       "   Reception Rooms  Erf Size Pool   price2            address  \\\n",
       "0             1.00       NaN   No  6600000  Val De Vie Estate   \n",
       "1             2.00    328.00   No  2595000     Villa Diamante   \n",
       "2             0.00       NaN  Yes  1295000         Table View   \n",
       "3             0.00    600.00   No  2345000        Bonnie Brae   \n",
       "4             0.00    135.00  Yes  1850000  Hartenbos Central   \n",
       "\n",
       "   days_since_listing  Bedrooms2  Bathrooms2  Garages  Parking  \n",
       "0                 184       2.00        2.00     0.00     1.00  \n",
       "1                  76       3.00        2.50     1.00     1.00  \n",
       "2                  28       2.00        1.00     0.00     1.00  \n",
       "3                  55       5.00        4.00     2.00     4.00  \n",
       "4                   2       4.00        2.00     0.00     0.00  "
      ]
     },
     "execution_count": 696,
     "metadata": {},
     "output_type": "execute_result"
    }
   ],
   "source": [
    "df = pd.read_csv(\"house_data_cleaned.csv\")\n",
    "df.head()"
   ]
  },
  {
   "cell_type": "code",
   "execution_count": 697,
   "metadata": {},
   "outputs": [
    {
     "data": {
      "text/plain": [
       "array(['Val De Vie Estate', 'Villa Diamante', 'Table View', ...,\n",
       "       'Bonnievale Rural', 'Concordia', 'Fernwood Estate'], dtype=object)"
      ]
     },
     "execution_count": 697,
     "metadata": {},
     "output_type": "execute_result"
    }
   ],
   "source": [
    "df.address.unique()"
   ]
  },
  {
   "cell_type": "code",
   "execution_count": 698,
   "metadata": {},
   "outputs": [
    {
     "data": {
      "text/plain": [
       "address\n",
       "Cape Town City Centre          615\n",
       "Sandown                        565\n",
       "Parklands                      467\n",
       "Sea Point                      282\n",
       "Table View                     247\n",
       "                              ... \n",
       "Strandloper                      1\n",
       "Stasieweg                        1\n",
       "Cherry Creek Country Estate      1\n",
       "Solar Beach                      1\n",
       "Fernwood Estate                  1\n",
       "Name: count, Length: 1362, dtype: int64"
      ]
     },
     "execution_count": 698,
     "metadata": {},
     "output_type": "execute_result"
    }
   ],
   "source": [
    "df.address.value_counts()"
   ]
  },
  {
   "cell_type": "code",
   "execution_count": 699,
   "metadata": {},
   "outputs": [
    {
     "data": {
      "text/plain": [
       "array(['Val De Vie Estate', 'Villa Diamante', 'Table View', ...,\n",
       "       'Bonnievale Rural', 'Concordia', 'Fernwood Estate'], dtype=object)"
      ]
     },
     "execution_count": 699,
     "metadata": {},
     "output_type": "execute_result"
    }
   ],
   "source": [
    "df.address.unique()"
   ]
  },
  {
   "cell_type": "code",
   "execution_count": 700,
   "metadata": {},
   "outputs": [],
   "source": [
    "df= df[df.address==\"Sandown\"]"
   ]
  },
  {
   "cell_type": "code",
   "execution_count": 701,
   "metadata": {},
   "outputs": [],
   "source": [
    "# for col in ['Parking Spaces', 'Floor Size', 'Reception Rooms', 'Erf Size', 'Bedrooms2', 'Bathrooms2','Parking Spaces']:\n",
    "#     # Calculate the IQR (Interquartile Range)\n",
    "#     Q1 = df[col].quantile(0.25)\n",
    "#     Q3 = df[col].quantile(0.75)\n",
    "#     IQR = Q3 - Q1\n",
    "\n",
    "#     # Define the outlier threshold\n",
    "#     outlier_threshold = Q3 + 1.5 * IQR\n",
    "\n",
    "#     # Identify rows above the outlier threshold\n",
    "#     df = df[df[col] <= outlier_threshold]\n",
    "#     # outliers.url.to_list()"
   ]
  },
  {
   "cell_type": "code",
   "execution_count": 702,
   "metadata": {},
   "outputs": [],
   "source": [
    "## let's remove the attributes we wont be using\n",
    "df.drop([\"url\", \"name\", \"Listing Number\", \"Listing Date\"], axis=1, inplace=True)"
   ]
  },
  {
   "cell_type": "code",
   "execution_count": 703,
   "metadata": {},
   "outputs": [
    {
     "data": {
      "text/html": [
       "<div>\n",
       "<style scoped>\n",
       "    .dataframe tbody tr th:only-of-type {\n",
       "        vertical-align: middle;\n",
       "    }\n",
       "\n",
       "    .dataframe tbody tr th {\n",
       "        vertical-align: top;\n",
       "    }\n",
       "\n",
       "    .dataframe thead th {\n",
       "        text-align: right;\n",
       "    }\n",
       "</style>\n",
       "<table border=\"1\" class=\"dataframe\">\n",
       "  <thead>\n",
       "    <tr style=\"text-align: right;\">\n",
       "      <th></th>\n",
       "      <th>Parking Spaces</th>\n",
       "      <th>Floor Size</th>\n",
       "      <th>Garden</th>\n",
       "      <th>Type of Property</th>\n",
       "      <th>Pets Allowed</th>\n",
       "      <th>Reception Rooms</th>\n",
       "      <th>Erf Size</th>\n",
       "      <th>Pool</th>\n",
       "      <th>price2</th>\n",
       "      <th>address</th>\n",
       "      <th>days_since_listing</th>\n",
       "      <th>Bedrooms2</th>\n",
       "      <th>Bathrooms2</th>\n",
       "      <th>Garages</th>\n",
       "      <th>Parking</th>\n",
       "    </tr>\n",
       "  </thead>\n",
       "  <tbody>\n",
       "    <tr>\n",
       "      <th>75</th>\n",
       "      <td>1.00</td>\n",
       "      <td>41.00</td>\n",
       "      <td>No</td>\n",
       "      <td>Apartment / Flat</td>\n",
       "      <td>Yes</td>\n",
       "      <td>0.00</td>\n",
       "      <td>41.00</td>\n",
       "      <td>Yes</td>\n",
       "      <td>1150000</td>\n",
       "      <td>Sandown</td>\n",
       "      <td>2</td>\n",
       "      <td>1.00</td>\n",
       "      <td>1.00</td>\n",
       "      <td>0.00</td>\n",
       "      <td>1.00</td>\n",
       "    </tr>\n",
       "    <tr>\n",
       "      <th>346</th>\n",
       "      <td>4.00</td>\n",
       "      <td>272.00</td>\n",
       "      <td>Yes</td>\n",
       "      <td>House</td>\n",
       "      <td>Yes</td>\n",
       "      <td>0.00</td>\n",
       "      <td>325.00</td>\n",
       "      <td>Yes</td>\n",
       "      <td>4850000</td>\n",
       "      <td>Sandown</td>\n",
       "      <td>2</td>\n",
       "      <td>4.00</td>\n",
       "      <td>3.00</td>\n",
       "      <td>2.00</td>\n",
       "      <td>2.00</td>\n",
       "    </tr>\n",
       "    <tr>\n",
       "      <th>628</th>\n",
       "      <td>2.00</td>\n",
       "      <td>109.00</td>\n",
       "      <td>No</td>\n",
       "      <td>Apartment / Flat</td>\n",
       "      <td>Yes</td>\n",
       "      <td>0.00</td>\n",
       "      <td>109.00</td>\n",
       "      <td>Yes</td>\n",
       "      <td>2080000</td>\n",
       "      <td>Sandown</td>\n",
       "      <td>8</td>\n",
       "      <td>3.00</td>\n",
       "      <td>2.00</td>\n",
       "      <td>0.00</td>\n",
       "      <td>2.00</td>\n",
       "    </tr>\n",
       "    <tr>\n",
       "      <th>733</th>\n",
       "      <td>2.00</td>\n",
       "      <td>113.00</td>\n",
       "      <td>No</td>\n",
       "      <td>Apartment / Flat</td>\n",
       "      <td>Yes</td>\n",
       "      <td>0.00</td>\n",
       "      <td>113.00</td>\n",
       "      <td>No</td>\n",
       "      <td>1879500</td>\n",
       "      <td>Sandown</td>\n",
       "      <td>5</td>\n",
       "      <td>3.00</td>\n",
       "      <td>2.00</td>\n",
       "      <td>1.00</td>\n",
       "      <td>1.00</td>\n",
       "    </tr>\n",
       "    <tr>\n",
       "      <th>836</th>\n",
       "      <td>2.00</td>\n",
       "      <td>307.00</td>\n",
       "      <td>Yes</td>\n",
       "      <td>House</td>\n",
       "      <td>Yes</td>\n",
       "      <td>0.00</td>\n",
       "      <td>450.00</td>\n",
       "      <td>Yes</td>\n",
       "      <td>5350000</td>\n",
       "      <td>Sandown</td>\n",
       "      <td>5</td>\n",
       "      <td>4.00</td>\n",
       "      <td>4.00</td>\n",
       "      <td>2.00</td>\n",
       "      <td>0.00</td>\n",
       "    </tr>\n",
       "    <tr>\n",
       "      <th>...</th>\n",
       "      <td>...</td>\n",
       "      <td>...</td>\n",
       "      <td>...</td>\n",
       "      <td>...</td>\n",
       "      <td>...</td>\n",
       "      <td>...</td>\n",
       "      <td>...</td>\n",
       "      <td>...</td>\n",
       "      <td>...</td>\n",
       "      <td>...</td>\n",
       "      <td>...</td>\n",
       "      <td>...</td>\n",
       "      <td>...</td>\n",
       "      <td>...</td>\n",
       "      <td>...</td>\n",
       "    </tr>\n",
       "    <tr>\n",
       "      <th>24764</th>\n",
       "      <td>4.00</td>\n",
       "      <td>240.00</td>\n",
       "      <td>No</td>\n",
       "      <td>House</td>\n",
       "      <td>Yes</td>\n",
       "      <td>0.00</td>\n",
       "      <td>293.00</td>\n",
       "      <td>No</td>\n",
       "      <td>3890000</td>\n",
       "      <td>Sandown</td>\n",
       "      <td>275</td>\n",
       "      <td>4.00</td>\n",
       "      <td>3.00</td>\n",
       "      <td>2.00</td>\n",
       "      <td>2.00</td>\n",
       "    </tr>\n",
       "    <tr>\n",
       "      <th>24789</th>\n",
       "      <td>2.00</td>\n",
       "      <td>NaN</td>\n",
       "      <td>No</td>\n",
       "      <td>House</td>\n",
       "      <td>Yes</td>\n",
       "      <td>2.00</td>\n",
       "      <td>NaN</td>\n",
       "      <td>No</td>\n",
       "      <td>2750000</td>\n",
       "      <td>Sandown</td>\n",
       "      <td>259</td>\n",
       "      <td>3.00</td>\n",
       "      <td>2.00</td>\n",
       "      <td>2.00</td>\n",
       "      <td>0.00</td>\n",
       "    </tr>\n",
       "    <tr>\n",
       "      <th>24795</th>\n",
       "      <td>2.00</td>\n",
       "      <td>NaN</td>\n",
       "      <td>No</td>\n",
       "      <td>House</td>\n",
       "      <td>NaN</td>\n",
       "      <td>0.00</td>\n",
       "      <td>386.00</td>\n",
       "      <td>No</td>\n",
       "      <td>4495000</td>\n",
       "      <td>Sandown</td>\n",
       "      <td>163</td>\n",
       "      <td>4.00</td>\n",
       "      <td>3.00</td>\n",
       "      <td>2.00</td>\n",
       "      <td>0.00</td>\n",
       "    </tr>\n",
       "    <tr>\n",
       "      <th>24798</th>\n",
       "      <td>2.00</td>\n",
       "      <td>208.00</td>\n",
       "      <td>No</td>\n",
       "      <td>House</td>\n",
       "      <td>NaN</td>\n",
       "      <td>0.00</td>\n",
       "      <td>269.00</td>\n",
       "      <td>No</td>\n",
       "      <td>3600000</td>\n",
       "      <td>Sandown</td>\n",
       "      <td>447</td>\n",
       "      <td>4.00</td>\n",
       "      <td>3.00</td>\n",
       "      <td>2.00</td>\n",
       "      <td>0.00</td>\n",
       "    </tr>\n",
       "    <tr>\n",
       "      <th>24857</th>\n",
       "      <td>2.00</td>\n",
       "      <td>137.00</td>\n",
       "      <td>Yes</td>\n",
       "      <td>Apartment / Flat</td>\n",
       "      <td>NaN</td>\n",
       "      <td>0.00</td>\n",
       "      <td>NaN</td>\n",
       "      <td>No</td>\n",
       "      <td>1990000</td>\n",
       "      <td>Sandown</td>\n",
       "      <td>368</td>\n",
       "      <td>3.00</td>\n",
       "      <td>2.00</td>\n",
       "      <td>1.00</td>\n",
       "      <td>1.00</td>\n",
       "    </tr>\n",
       "  </tbody>\n",
       "</table>\n",
       "<p>565 rows × 15 columns</p>\n",
       "</div>"
      ],
      "text/plain": [
       "       Parking Spaces  Floor Size Garden  Type of Property Pets Allowed  \\\n",
       "75               1.00       41.00     No  Apartment / Flat          Yes   \n",
       "346              4.00      272.00    Yes             House          Yes   \n",
       "628              2.00      109.00     No  Apartment / Flat          Yes   \n",
       "733              2.00      113.00     No  Apartment / Flat          Yes   \n",
       "836              2.00      307.00    Yes             House          Yes   \n",
       "...               ...         ...    ...               ...          ...   \n",
       "24764            4.00      240.00     No             House          Yes   \n",
       "24789            2.00         NaN     No             House          Yes   \n",
       "24795            2.00         NaN     No             House          NaN   \n",
       "24798            2.00      208.00     No             House          NaN   \n",
       "24857            2.00      137.00    Yes  Apartment / Flat          NaN   \n",
       "\n",
       "       Reception Rooms  Erf Size Pool   price2  address  days_since_listing  \\\n",
       "75                0.00     41.00  Yes  1150000  Sandown                   2   \n",
       "346               0.00    325.00  Yes  4850000  Sandown                   2   \n",
       "628               0.00    109.00  Yes  2080000  Sandown                   8   \n",
       "733               0.00    113.00   No  1879500  Sandown                   5   \n",
       "836               0.00    450.00  Yes  5350000  Sandown                   5   \n",
       "...                ...       ...  ...      ...      ...                 ...   \n",
       "24764             0.00    293.00   No  3890000  Sandown                 275   \n",
       "24789             2.00       NaN   No  2750000  Sandown                 259   \n",
       "24795             0.00    386.00   No  4495000  Sandown                 163   \n",
       "24798             0.00    269.00   No  3600000  Sandown                 447   \n",
       "24857             0.00       NaN   No  1990000  Sandown                 368   \n",
       "\n",
       "       Bedrooms2  Bathrooms2  Garages  Parking  \n",
       "75          1.00        1.00     0.00     1.00  \n",
       "346         4.00        3.00     2.00     2.00  \n",
       "628         3.00        2.00     0.00     2.00  \n",
       "733         3.00        2.00     1.00     1.00  \n",
       "836         4.00        4.00     2.00     0.00  \n",
       "...          ...         ...      ...      ...  \n",
       "24764       4.00        3.00     2.00     2.00  \n",
       "24789       3.00        2.00     2.00     0.00  \n",
       "24795       4.00        3.00     2.00     0.00  \n",
       "24798       4.00        3.00     2.00     0.00  \n",
       "24857       3.00        2.00     1.00     1.00  \n",
       "\n",
       "[565 rows x 15 columns]"
      ]
     },
     "execution_count": 703,
     "metadata": {},
     "output_type": "execute_result"
    }
   ],
   "source": [
    "df"
   ]
  },
  {
   "cell_type": "code",
   "execution_count": 704,
   "metadata": {},
   "outputs": [
    {
     "data": {
      "text/plain": [
       "(565, 15)"
      ]
     },
     "execution_count": 704,
     "metadata": {},
     "output_type": "execute_result"
    }
   ],
   "source": [
    "df.shape"
   ]
  },
  {
   "cell_type": "code",
   "execution_count": 705,
   "metadata": {},
   "outputs": [
    {
     "name": "stdout",
     "output_type": "stream",
     "text": [
      "<class 'pandas.core.frame.DataFrame'>\n",
      "Index: 565 entries, 75 to 24857\n",
      "Data columns (total 15 columns):\n",
      " #   Column              Non-Null Count  Dtype  \n",
      "---  ------              --------------  -----  \n",
      " 0   Parking Spaces      565 non-null    float64\n",
      " 1   Floor Size          481 non-null    float64\n",
      " 2   Garden              565 non-null    object \n",
      " 3   Type of Property    565 non-null    object \n",
      " 4   Pets Allowed        431 non-null    object \n",
      " 5   Reception Rooms     565 non-null    float64\n",
      " 6   Erf Size            387 non-null    float64\n",
      " 7   Pool                565 non-null    object \n",
      " 8   price2              565 non-null    int64  \n",
      " 9   address             565 non-null    object \n",
      " 10  days_since_listing  565 non-null    int64  \n",
      " 11  Bedrooms2           556 non-null    float64\n",
      " 12  Bathrooms2          555 non-null    float64\n",
      " 13  Garages             565 non-null    float64\n",
      " 14  Parking             565 non-null    float64\n",
      "dtypes: float64(8), int64(2), object(5)\n",
      "memory usage: 70.6+ KB\n"
     ]
    }
   ],
   "source": [
    "df.info()"
   ]
  },
  {
   "cell_type": "code",
   "execution_count": 706,
   "metadata": {},
   "outputs": [
    {
     "data": {
      "text/plain": [
       "Erf Size              178\n",
       "Pets Allowed          134\n",
       "Floor Size             84\n",
       "Bathrooms2             10\n",
       "Bedrooms2               9\n",
       "Parking Spaces          0\n",
       "Garden                  0\n",
       "Type of Property        0\n",
       "Reception Rooms         0\n",
       "Pool                    0\n",
       "price2                  0\n",
       "address                 0\n",
       "days_since_listing      0\n",
       "Garages                 0\n",
       "Parking                 0\n",
       "dtype: int64"
      ]
     },
     "execution_count": 706,
     "metadata": {},
     "output_type": "execute_result"
    }
   ],
   "source": [
    "df.isnull().sum().sort_values(ascending=False)"
   ]
  },
  {
   "cell_type": "code",
   "execution_count": 707,
   "metadata": {},
   "outputs": [
    {
     "data": {
      "text/html": [
       "<div>\n",
       "<style scoped>\n",
       "    .dataframe tbody tr th:only-of-type {\n",
       "        vertical-align: middle;\n",
       "    }\n",
       "\n",
       "    .dataframe tbody tr th {\n",
       "        vertical-align: top;\n",
       "    }\n",
       "\n",
       "    .dataframe thead th {\n",
       "        text-align: right;\n",
       "    }\n",
       "</style>\n",
       "<table border=\"1\" class=\"dataframe\">\n",
       "  <thead>\n",
       "    <tr style=\"text-align: right;\">\n",
       "      <th></th>\n",
       "      <th>count</th>\n",
       "      <th>unique</th>\n",
       "      <th>top</th>\n",
       "      <th>freq</th>\n",
       "      <th>mean</th>\n",
       "      <th>std</th>\n",
       "      <th>min</th>\n",
       "      <th>25%</th>\n",
       "      <th>50%</th>\n",
       "      <th>75%</th>\n",
       "      <th>max</th>\n",
       "    </tr>\n",
       "  </thead>\n",
       "  <tbody>\n",
       "    <tr>\n",
       "      <th>Parking Spaces</th>\n",
       "      <td>565.00</td>\n",
       "      <td>NaN</td>\n",
       "      <td>NaN</td>\n",
       "      <td>NaN</td>\n",
       "      <td>2.58</td>\n",
       "      <td>1.47</td>\n",
       "      <td>0.00</td>\n",
       "      <td>1.00</td>\n",
       "      <td>2.00</td>\n",
       "      <td>4.00</td>\n",
       "      <td>12.00</td>\n",
       "    </tr>\n",
       "    <tr>\n",
       "      <th>Floor Size</th>\n",
       "      <td>481.00</td>\n",
       "      <td>NaN</td>\n",
       "      <td>NaN</td>\n",
       "      <td>NaN</td>\n",
       "      <td>174.32</td>\n",
       "      <td>68.16</td>\n",
       "      <td>24.00</td>\n",
       "      <td>118.00</td>\n",
       "      <td>175.00</td>\n",
       "      <td>227.00</td>\n",
       "      <td>365.00</td>\n",
       "    </tr>\n",
       "    <tr>\n",
       "      <th>Garden</th>\n",
       "      <td>565</td>\n",
       "      <td>2</td>\n",
       "      <td>Yes</td>\n",
       "      <td>283</td>\n",
       "      <td>NaN</td>\n",
       "      <td>NaN</td>\n",
       "      <td>NaN</td>\n",
       "      <td>NaN</td>\n",
       "      <td>NaN</td>\n",
       "      <td>NaN</td>\n",
       "      <td>NaN</td>\n",
       "    </tr>\n",
       "    <tr>\n",
       "      <th>Type of Property</th>\n",
       "      <td>565</td>\n",
       "      <td>3</td>\n",
       "      <td>House</td>\n",
       "      <td>372</td>\n",
       "      <td>NaN</td>\n",
       "      <td>NaN</td>\n",
       "      <td>NaN</td>\n",
       "      <td>NaN</td>\n",
       "      <td>NaN</td>\n",
       "      <td>NaN</td>\n",
       "      <td>NaN</td>\n",
       "    </tr>\n",
       "    <tr>\n",
       "      <th>Pets Allowed</th>\n",
       "      <td>431</td>\n",
       "      <td>2</td>\n",
       "      <td>Yes</td>\n",
       "      <td>374</td>\n",
       "      <td>NaN</td>\n",
       "      <td>NaN</td>\n",
       "      <td>NaN</td>\n",
       "      <td>NaN</td>\n",
       "      <td>NaN</td>\n",
       "      <td>NaN</td>\n",
       "      <td>NaN</td>\n",
       "    </tr>\n",
       "    <tr>\n",
       "      <th>Reception Rooms</th>\n",
       "      <td>565.00</td>\n",
       "      <td>NaN</td>\n",
       "      <td>NaN</td>\n",
       "      <td>NaN</td>\n",
       "      <td>0.63</td>\n",
       "      <td>0.90</td>\n",
       "      <td>0.00</td>\n",
       "      <td>0.00</td>\n",
       "      <td>0.00</td>\n",
       "      <td>2.00</td>\n",
       "      <td>3.00</td>\n",
       "    </tr>\n",
       "    <tr>\n",
       "      <th>Erf Size</th>\n",
       "      <td>387.00</td>\n",
       "      <td>NaN</td>\n",
       "      <td>NaN</td>\n",
       "      <td>NaN</td>\n",
       "      <td>663.60</td>\n",
       "      <td>3687.98</td>\n",
       "      <td>38.00</td>\n",
       "      <td>250.00</td>\n",
       "      <td>250.00</td>\n",
       "      <td>325.00</td>\n",
       "      <td>63716.00</td>\n",
       "    </tr>\n",
       "    <tr>\n",
       "      <th>Pool</th>\n",
       "      <td>565</td>\n",
       "      <td>2</td>\n",
       "      <td>No</td>\n",
       "      <td>465</td>\n",
       "      <td>NaN</td>\n",
       "      <td>NaN</td>\n",
       "      <td>NaN</td>\n",
       "      <td>NaN</td>\n",
       "      <td>NaN</td>\n",
       "      <td>NaN</td>\n",
       "      <td>NaN</td>\n",
       "    </tr>\n",
       "    <tr>\n",
       "      <th>price2</th>\n",
       "      <td>565.00</td>\n",
       "      <td>NaN</td>\n",
       "      <td>NaN</td>\n",
       "      <td>NaN</td>\n",
       "      <td>3134451.12</td>\n",
       "      <td>1145800.09</td>\n",
       "      <td>719900.00</td>\n",
       "      <td>2131500.00</td>\n",
       "      <td>3149000.00</td>\n",
       "      <td>3995000.00</td>\n",
       "      <td>6500000.00</td>\n",
       "    </tr>\n",
       "    <tr>\n",
       "      <th>address</th>\n",
       "      <td>565</td>\n",
       "      <td>1</td>\n",
       "      <td>Sandown</td>\n",
       "      <td>565</td>\n",
       "      <td>NaN</td>\n",
       "      <td>NaN</td>\n",
       "      <td>NaN</td>\n",
       "      <td>NaN</td>\n",
       "      <td>NaN</td>\n",
       "      <td>NaN</td>\n",
       "      <td>NaN</td>\n",
       "    </tr>\n",
       "    <tr>\n",
       "      <th>days_since_listing</th>\n",
       "      <td>565.00</td>\n",
       "      <td>NaN</td>\n",
       "      <td>NaN</td>\n",
       "      <td>NaN</td>\n",
       "      <td>124.68</td>\n",
       "      <td>120.91</td>\n",
       "      <td>2.00</td>\n",
       "      <td>39.00</td>\n",
       "      <td>84.00</td>\n",
       "      <td>162.00</td>\n",
       "      <td>798.00</td>\n",
       "    </tr>\n",
       "    <tr>\n",
       "      <th>Bedrooms2</th>\n",
       "      <td>556.00</td>\n",
       "      <td>NaN</td>\n",
       "      <td>NaN</td>\n",
       "      <td>NaN</td>\n",
       "      <td>3.21</td>\n",
       "      <td>0.87</td>\n",
       "      <td>1.00</td>\n",
       "      <td>3.00</td>\n",
       "      <td>3.00</td>\n",
       "      <td>4.00</td>\n",
       "      <td>5.00</td>\n",
       "    </tr>\n",
       "    <tr>\n",
       "      <th>Bathrooms2</th>\n",
       "      <td>555.00</td>\n",
       "      <td>NaN</td>\n",
       "      <td>NaN</td>\n",
       "      <td>NaN</td>\n",
       "      <td>2.47</td>\n",
       "      <td>0.76</td>\n",
       "      <td>1.00</td>\n",
       "      <td>2.00</td>\n",
       "      <td>2.50</td>\n",
       "      <td>3.00</td>\n",
       "      <td>5.00</td>\n",
       "    </tr>\n",
       "    <tr>\n",
       "      <th>Garages</th>\n",
       "      <td>565.00</td>\n",
       "      <td>NaN</td>\n",
       "      <td>NaN</td>\n",
       "      <td>NaN</td>\n",
       "      <td>1.31</td>\n",
       "      <td>0.87</td>\n",
       "      <td>0.00</td>\n",
       "      <td>0.00</td>\n",
       "      <td>2.00</td>\n",
       "      <td>2.00</td>\n",
       "      <td>3.00</td>\n",
       "    </tr>\n",
       "    <tr>\n",
       "      <th>Parking</th>\n",
       "      <td>565.00</td>\n",
       "      <td>NaN</td>\n",
       "      <td>NaN</td>\n",
       "      <td>NaN</td>\n",
       "      <td>1.26</td>\n",
       "      <td>1.01</td>\n",
       "      <td>0.00</td>\n",
       "      <td>0.00</td>\n",
       "      <td>1.00</td>\n",
       "      <td>2.00</td>\n",
       "      <td>9.00</td>\n",
       "    </tr>\n",
       "  </tbody>\n",
       "</table>\n",
       "</div>"
      ],
      "text/plain": [
       "                    count unique      top freq       mean        std  \\\n",
       "Parking Spaces     565.00    NaN      NaN  NaN       2.58       1.47   \n",
       "Floor Size         481.00    NaN      NaN  NaN     174.32      68.16   \n",
       "Garden                565      2      Yes  283        NaN        NaN   \n",
       "Type of Property      565      3    House  372        NaN        NaN   \n",
       "Pets Allowed          431      2      Yes  374        NaN        NaN   \n",
       "Reception Rooms    565.00    NaN      NaN  NaN       0.63       0.90   \n",
       "Erf Size           387.00    NaN      NaN  NaN     663.60    3687.98   \n",
       "Pool                  565      2       No  465        NaN        NaN   \n",
       "price2             565.00    NaN      NaN  NaN 3134451.12 1145800.09   \n",
       "address               565      1  Sandown  565        NaN        NaN   \n",
       "days_since_listing 565.00    NaN      NaN  NaN     124.68     120.91   \n",
       "Bedrooms2          556.00    NaN      NaN  NaN       3.21       0.87   \n",
       "Bathrooms2         555.00    NaN      NaN  NaN       2.47       0.76   \n",
       "Garages            565.00    NaN      NaN  NaN       1.31       0.87   \n",
       "Parking            565.00    NaN      NaN  NaN       1.26       1.01   \n",
       "\n",
       "                         min        25%        50%        75%        max  \n",
       "Parking Spaces          0.00       1.00       2.00       4.00      12.00  \n",
       "Floor Size             24.00     118.00     175.00     227.00     365.00  \n",
       "Garden                   NaN        NaN        NaN        NaN        NaN  \n",
       "Type of Property         NaN        NaN        NaN        NaN        NaN  \n",
       "Pets Allowed             NaN        NaN        NaN        NaN        NaN  \n",
       "Reception Rooms         0.00       0.00       0.00       2.00       3.00  \n",
       "Erf Size               38.00     250.00     250.00     325.00   63716.00  \n",
       "Pool                     NaN        NaN        NaN        NaN        NaN  \n",
       "price2             719900.00 2131500.00 3149000.00 3995000.00 6500000.00  \n",
       "address                  NaN        NaN        NaN        NaN        NaN  \n",
       "days_since_listing      2.00      39.00      84.00     162.00     798.00  \n",
       "Bedrooms2               1.00       3.00       3.00       4.00       5.00  \n",
       "Bathrooms2              1.00       2.00       2.50       3.00       5.00  \n",
       "Garages                 0.00       0.00       2.00       2.00       3.00  \n",
       "Parking                 0.00       0.00       1.00       2.00       9.00  "
      ]
     },
     "execution_count": 707,
     "metadata": {},
     "output_type": "execute_result"
    }
   ],
   "source": [
    "df.describe(include=\"all\").T"
   ]
  },
  {
   "cell_type": "code",
   "execution_count": 708,
   "metadata": {},
   "outputs": [
    {
     "data": {
      "text/plain": [
       "Index(['Garden', 'Type of Property', 'Pets Allowed', 'Pool', 'address'], dtype='object')"
      ]
     },
     "execution_count": 708,
     "metadata": {},
     "output_type": "execute_result"
    }
   ],
   "source": [
    "non_numeric_cols = df.columns[df.dtypes==\"object\"]\n",
    "non_numeric_cols"
   ]
  },
  {
   "cell_type": "code",
   "execution_count": 709,
   "metadata": {},
   "outputs": [],
   "source": [
    "\n",
    "def plot_categores(col,top=10, truncate=True):\n",
    "    # Create the count plot\n",
    "    plt.figure(figsize=(12, 6))\n",
    "\n",
    "    data = df[col].value_counts(dropna=False).reset_index().sort_values(by=\"count\", ascending=False).fillna(\"null\")\n",
    "    if len(data)>top and truncate:\n",
    "        print(\"More than 10 categories found. Data truncated.\")\n",
    "        data = data.head(top)\n",
    "\n",
    "    ax = sns.barplot(data, x=col, y=\"count\", color=\"lightblue\", order=data[col], edgecolor='w')\n",
    "\n",
    "    # Add labels and title\n",
    "    ax.set_xlabel(f\"{col}\", fontsize=12)\n",
    "    ax.set_ylabel(\"Freq\", fontsize=12)\n",
    "    ax.set_title(f\"Count of {col}\", fontsize=14)\n",
    "\n",
    "    # Annotate bars with count values\n",
    "    for p in ax.patches:\n",
    "        ax.annotate(format(int(p.get_height())), \n",
    "                    (p.get_x() + p.get_width() / 2., p.get_height()), \n",
    "                    ha = 'center', va = 'center', \n",
    "                    xytext = (0, 9), \n",
    "                    textcoords = 'offset points')\n",
    "\n",
    "    # Show plot\n",
    "    plt.tight_layout()\n",
    "    plt.show()\n",
    "    return data.to_dict(orient=\"records\")"
   ]
  },
  {
   "cell_type": "code",
   "execution_count": 710,
   "metadata": {},
   "outputs": [
    {
     "name": "stdout",
     "output_type": "stream",
     "text": [
      "More than 10 categories found. Data truncated.\n"
     ]
    },
    {
     "data": {
      "image/png": "[encoded data removed]",
      "text/plain": [
       "<Figure size 1200x600 with 1 Axes>"
      ]
     },
     "metadata": {},
     "output_type": "display_data"
    },
    {
     "name": "stdout",
     "output_type": "stream",
     "text": [
      "[{'Parking Spaces': 4.0, 'count': 195}, {'Parking Spaces': 2.0, 'count': 184}, {'Parking Spaces': 1.0, 'count': 124}, {'Parking Spaces': 3.0, 'count': 25}, {'Parking Spaces': 0.0, 'count': 20}, {'Parking Spaces': 5.0, 'count': 9}, {'Parking Spaces': 6.0, 'count': 3}, {'Parking Spaces': 7.0, 'count': 2}, {'Parking Spaces': 11.0, 'count': 1}, {'Parking Spaces': 12.0, 'count': 1}]\n"
     ]
    },
    {
     "data": {
      "image/png": "[encoded data removed]",
      "text/plain": [
       "<Figure size 1200x600 with 1 Axes>"
      ]
     },
     "metadata": {},
     "output_type": "display_data"
    },
    {
     "name": "stdout",
     "output_type": "stream",
     "text": [
      "[{'Reception Rooms': 0.0, 'count': 369}, {'Reception Rooms': 2.0, 'count': 156}, {'Reception Rooms': 1.0, 'count': 37}, {'Reception Rooms': 3.0, 'count': 3}]\n"
     ]
    },
    {
     "data": {
      "image/png": "[encoded data removed]",
      "text/plain": [
       "<Figure size 1200x600 with 1 Axes>"
      ]
     },
     "metadata": {},
     "output_type": "display_data"
    },
    {
     "name": "stdout",
     "output_type": "stream",
     "text": [
      "[{'Bedrooms2': 3.0, 'count': 255}, {'Bedrooms2': 4.0, 'count': 211}, {'Bedrooms2': 2.0, 'count': 43}, {'Bedrooms2': 1.0, 'count': 36}, {'Bedrooms2': 5.0, 'count': 11}, {'Bedrooms2': 'null', 'count': 9}]\n"
     ]
    },
    {
     "data": {
      "image/png": "[encoded data removed]",
      "text/plain": [
       "<Figure size 1200x600 with 1 Axes>"
      ]
     },
     "metadata": {},
     "output_type": "display_data"
    },
    {
     "name": "stdout",
     "output_type": "stream",
     "text": [
      "[{'Bathrooms2': 2.0, 'count': 226}, {'Bathrooms2': 3.0, 'count': 196}, {'Bathrooms2': 2.5, 'count': 51}, {'Bathrooms2': 1.0, 'count': 41}, {'Bathrooms2': 4.0, 'count': 17}, {'Bathrooms2': 5.0, 'count': 11}, {'Bathrooms2': 'null', 'count': 10}, {'Bathrooms2': 3.5, 'count': 8}, {'Bathrooms2': 1.5, 'count': 3}, {'Bathrooms2': 4.5, 'count': 2}]\n"
     ]
    },
    {
     "data": {
      "image/png": "[encoded data removed]",
      "text/plain": [
       "<Figure size 1200x600 with 1 Axes>"
      ]
     },
     "metadata": {},
     "output_type": "display_data"
    },
    {
     "name": "stdout",
     "output_type": "stream",
     "text": [
      "[{'Garages': 2.0, 'count': 318}, {'Garages': 0.0, 'count': 151}, {'Garages': 1.0, 'count': 92}, {'Garages': 3.0, 'count': 4}]\n"
     ]
    },
    {
     "data": {
      "image/png": "[encoded data removed]",
      "text/plain": [
       "<Figure size 1200x600 with 1 Axes>"
      ]
     },
     "metadata": {},
     "output_type": "display_data"
    },
    {
     "name": "stdout",
     "output_type": "stream",
     "text": [
      "[{'Parking': 2.0, 'count': 234}, {'Parking': 1.0, 'count': 171}, {'Parking': 0.0, 'count': 142}, {'Parking': 3.0, 'count': 10}, {'Parking': 4.0, 'count': 3}, {'Parking': 5.0, 'count': 2}, {'Parking': 8.0, 'count': 1}, {'Parking': 9.0, 'count': 1}, {'Parking': 6.0, 'count': 1}]\n"
     ]
    },
    {
     "data": {
      "image/png": "[encoded data removed]",
      "text/plain": [
       "<Figure size 1200x600 with 1 Axes>"
      ]
     },
     "metadata": {},
     "output_type": "display_data"
    },
    {
     "name": "stdout",
     "output_type": "stream",
     "text": [
      "[{'Garden': 'Yes', 'count': 283}, {'Garden': 'No', 'count': 282}]\n"
     ]
    },
    {
     "data": {
      "image/png": "[encoded data removed]",
      "text/plain": [
       "<Figure size 1200x600 with 1 Axes>"
      ]
     },
     "metadata": {},
     "output_type": "display_data"
    },
    {
     "name": "stdout",
     "output_type": "stream",
     "text": [
      "[{'Type of Property': 'House', 'count': 372}, {'Type of Property': 'Apartment / Flat', 'count': 155}, {'Type of Property': 'Townhouse', 'count': 38}]\n"
     ]
    },
    {
     "data": {
      "image/png": "[encoded data removed]",
      "text/plain": [
       "<Figure size 1200x600 with 1 Axes>"
      ]
     },
     "metadata": {},
     "output_type": "display_data"
    },
    {
     "name": "stdout",
     "output_type": "stream",
     "text": [
      "[{'Pets Allowed': 'Yes', 'count': 374}, {'Pets Allowed': 'null', 'count': 134}, {'Pets Allowed': 'No', 'count': 57}]\n"
     ]
    },
    {
     "data": {
      "image/png": "[encoded data removed]",
      "text/plain": [
       "<Figure size 1200x600 with 1 Axes>"
      ]
     },
     "metadata": {},
     "output_type": "display_data"
    },
    {
     "name": "stdout",
     "output_type": "stream",
     "text": [
      "[{'Pool': 'No', 'count': 465}, {'Pool': 'Yes', 'count': 100}]\n"
     ]
    },
    {
     "data": {
      "image/png": "[encoded data removed]",
      "text/plain": [
       "<Figure size 1200x600 with 1 Axes>"
      ]
     },
     "metadata": {},
     "output_type": "display_data"
    },
    {
     "name": "stdout",
     "output_type": "stream",
     "text": [
      "[{'address': 'Sandown', 'count': 565}]\n"
     ]
    }
   ],
   "source": [
    "cols = ['Parking Spaces', \"Reception Rooms\", 'Bedrooms2', 'Bathrooms2', 'Garages',\n",
    "       'Parking','Garden', 'Type of Property', 'Pets Allowed', 'Pool', 'address']\n",
    "for col in cols:\n",
    "    data = plot_categores(col)\n",
    "    print(data)"
   ]
  },
  {
   "cell_type": "code",
   "execution_count": 711,
   "metadata": {},
   "outputs": [
    {
     "data": {
      "text/plain": [
       "Index(['Parking Spaces', 'Floor Size', 'Garden', 'Type of Property',\n",
       "       'Pets Allowed', 'Reception Rooms', 'Erf Size', 'Pool', 'price2',\n",
       "       'address', 'days_since_listing', 'Bedrooms2', 'Bathrooms2', 'Garages',\n",
       "       'Parking'],\n",
       "      dtype='object')"
      ]
     },
     "execution_count": 711,
     "metadata": {},
     "output_type": "execute_result"
    }
   ],
   "source": [
    "df.columns"
   ]
  },
  {
   "cell_type": "code",
   "execution_count": 712,
   "metadata": {},
   "outputs": [],
   "source": [
    "numeric_cols = ['Parking Spaces', 'Floor Size', 'Reception Rooms', 'Erf Size', 'price2',\n",
    "       'Bedrooms2', 'Bathrooms2', 'Garages', 'Parking']"
   ]
  },
  {
   "cell_type": "code",
   "execution_count": 713,
   "metadata": {},
   "outputs": [
    {
     "data": {
      "text/plain": [
       "<Axes: >"
      ]
     },
     "execution_count": 713,
     "metadata": {},
     "output_type": "execute_result"
    },
    {
     "data": {
      "image/png": "[encoded data removed]",
      "text/plain": [
       "<Figure size 1500x1000 with 2 Axes>"
      ]
     },
     "metadata": {},
     "output_type": "display_data"
    }
   ],
   "source": [
    "plt.figure(figsize=(15,10))\n",
    "sns.heatmap(df[numeric_cols].corr(), annot=True)"
   ]
  },
  {
   "cell_type": "code",
   "execution_count": 714,
   "metadata": {},
   "outputs": [],
   "source": [
    "def histogram_boxplot(feature, figsize=(15,10), bins = None):\n",
    "    \"\"\" \n",
    "    \n",
    "    Boxplot and histogram combined\n",
    "    feature: 1-d feature array\n",
    "    figsize: size of fig (default (9,8))\n",
    "    bins: number of bins (default None / auto)\n",
    "    \n",
    "    \"\"\"\n",
    "    sns.set_context(font_scale=1.5) # setting the font scale  of the seaborn\n",
    "    f2, (ax_box2, ax_hist2) = plt.subplots(nrows = 2, # Number of rows of the subplot grid= 2\n",
    "                                           sharex = True, # x-axis will be shared among all subplots\n",
    "                                           gridspec_kw = {\"height_ratios\": (.25, .75)}, \n",
    "                                           figsize = figsize \n",
    "                                           ) # creating the 2 subplots\n",
    "    sns.boxplot(feature, ax=ax_box2, showmeans=True, color='green', orient=\"h\") # boxplot will be created and a star will indicate the mean value of the column\n",
    "    sns.histplot(feature, kde=F, ax=ax_hist2, bins=bins) if bins else sns.histplot(feature, kde=False, ax=ax_hist2, color=\"lightblue\") # For histogram\n",
    "    ax_hist2.axvline(np.mean(feature), color='g', linestyle='--') # Add mean to the histogram\n",
    "    ax_hist2.axvline(np.median(feature), color='black', linestyle='-') # Add median to the histogram"
   ]
  },
  {
   "cell_type": "code",
   "execution_count": 715,
   "metadata": {},
   "outputs": [
    {
     "data": {
      "image/png": "[encoded data removed]",
      "text/plain": [
       "<Figure size 1500x1000 with 2 Axes>"
      ]
     },
     "metadata": {},
     "output_type": "display_data"
    }
   ],
   "source": [
    "histogram_boxplot(df.price2)"
   ]
  },
  {
   "cell_type": "code",
   "execution_count": 717,
   "metadata": {},
   "outputs": [
    {
     "data": {
      "image/png": "[encoded data removed]",
      "text/plain": [
       "<Figure size 1500x1000 with 2 Axes>"
      ]
     },
     "metadata": {},
     "output_type": "display_data"
    }
   ],
   "source": [
    "# sns.scatterplot(data=df, x=\"Erf\")\n",
    "\n",
    "histogram_boxplot(df.days_since_listing)"
   ]
  },
  {
   "cell_type": "code",
   "execution_count": 718,
   "metadata": {},
   "outputs": [
    {
     "data": {
      "text/plain": [
       "Index(['Parking Spaces', 'Floor Size', 'Garden', 'Type of Property',\n",
       "       'Pets Allowed', 'Reception Rooms', 'Erf Size', 'Pool', 'price2',\n",
       "       'address', 'days_since_listing', 'Bedrooms2', 'Bathrooms2', 'Garages',\n",
       "       'Parking'],\n",
       "      dtype='object')"
      ]
     },
     "execution_count": 718,
     "metadata": {},
     "output_type": "execute_result"
    }
   ],
   "source": [
    "df.columns"
   ]
  },
  {
   "cell_type": "code",
   "execution_count": 721,
   "metadata": {},
   "outputs": [],
   "source": [
    "\n",
    "# df = df[df[\"Type of Property\"]==\"House\"]\n",
    "# df[\"bedbath\"] = df[\"Bedrooms2\"]+df[\"Bathrooms2\"]\n",
    "# df[\"flooref\"] = df[\"Floor Size\"] * df[\"Erf Size\"]\n",
    "\n",
    "df = df.drop([\"address\", \"days_since_listing\", \"Parking Spaces\", 'Garages', \"Erf Size\"], axis=1)"
   ]
  },
  {
   "cell_type": "code",
   "execution_count": 722,
   "metadata": {},
   "outputs": [
    {
     "data": {
      "text/html": [
       "<div>\n",
       "<style scoped>\n",
       "    .dataframe tbody tr th:only-of-type {\n",
       "        vertical-align: middle;\n",
       "    }\n",
       "\n",
       "    .dataframe tbody tr th {\n",
       "        vertical-align: top;\n",
       "    }\n",
       "\n",
       "    .dataframe thead th {\n",
       "        text-align: right;\n",
       "    }\n",
       "</style>\n",
       "<table border=\"1\" class=\"dataframe\">\n",
       "  <thead>\n",
       "    <tr style=\"text-align: right;\">\n",
       "      <th></th>\n",
       "      <th>Floor Size</th>\n",
       "      <th>Garden</th>\n",
       "      <th>Type of Property</th>\n",
       "      <th>Pets Allowed</th>\n",
       "      <th>Reception Rooms</th>\n",
       "      <th>Pool</th>\n",
       "      <th>price2</th>\n",
       "      <th>Bedrooms2</th>\n",
       "      <th>Bathrooms2</th>\n",
       "      <th>Parking</th>\n",
       "    </tr>\n",
       "  </thead>\n",
       "  <tbody>\n",
       "    <tr>\n",
       "      <th>75</th>\n",
       "      <td>41.00</td>\n",
       "      <td>No</td>\n",
       "      <td>Apartment / Flat</td>\n",
       "      <td>Yes</td>\n",
       "      <td>0.00</td>\n",
       "      <td>Yes</td>\n",
       "      <td>1150000</td>\n",
       "      <td>1.00</td>\n",
       "      <td>1.00</td>\n",
       "      <td>1.00</td>\n",
       "    </tr>\n",
       "    <tr>\n",
       "      <th>346</th>\n",
       "      <td>272.00</td>\n",
       "      <td>Yes</td>\n",
       "      <td>House</td>\n",
       "      <td>Yes</td>\n",
       "      <td>0.00</td>\n",
       "      <td>Yes</td>\n",
       "      <td>4850000</td>\n",
       "      <td>4.00</td>\n",
       "      <td>3.00</td>\n",
       "      <td>2.00</td>\n",
       "    </tr>\n",
       "    <tr>\n",
       "      <th>628</th>\n",
       "      <td>109.00</td>\n",
       "      <td>No</td>\n",
       "      <td>Apartment / Flat</td>\n",
       "      <td>Yes</td>\n",
       "      <td>0.00</td>\n",
       "      <td>Yes</td>\n",
       "      <td>2080000</td>\n",
       "      <td>3.00</td>\n",
       "      <td>2.00</td>\n",
       "      <td>2.00</td>\n",
       "    </tr>\n",
       "    <tr>\n",
       "      <th>733</th>\n",
       "      <td>113.00</td>\n",
       "      <td>No</td>\n",
       "      <td>Apartment / Flat</td>\n",
       "      <td>Yes</td>\n",
       "      <td>0.00</td>\n",
       "      <td>No</td>\n",
       "      <td>1879500</td>\n",
       "      <td>3.00</td>\n",
       "      <td>2.00</td>\n",
       "      <td>1.00</td>\n",
       "    </tr>\n",
       "    <tr>\n",
       "      <th>836</th>\n",
       "      <td>307.00</td>\n",
       "      <td>Yes</td>\n",
       "      <td>House</td>\n",
       "      <td>Yes</td>\n",
       "      <td>0.00</td>\n",
       "      <td>Yes</td>\n",
       "      <td>5350000</td>\n",
       "      <td>4.00</td>\n",
       "      <td>4.00</td>\n",
       "      <td>0.00</td>\n",
       "    </tr>\n",
       "  </tbody>\n",
       "</table>\n",
       "</div>"
      ],
      "text/plain": [
       "     Floor Size Garden  Type of Property Pets Allowed  Reception Rooms Pool  \\\n",
       "75        41.00     No  Apartment / Flat          Yes             0.00  Yes   \n",
       "346      272.00    Yes             House          Yes             0.00  Yes   \n",
       "628      109.00     No  Apartment / Flat          Yes             0.00  Yes   \n",
       "733      113.00     No  Apartment / Flat          Yes             0.00   No   \n",
       "836      307.00    Yes             House          Yes             0.00  Yes   \n",
       "\n",
       "      price2  Bedrooms2  Bathrooms2  Parking  \n",
       "75   1150000       1.00        1.00     1.00  \n",
       "346  4850000       4.00        3.00     2.00  \n",
       "628  2080000       3.00        2.00     2.00  \n",
       "733  1879500       3.00        2.00     1.00  \n",
       "836  5350000       4.00        4.00     0.00  "
      ]
     },
     "execution_count": 722,
     "metadata": {},
     "output_type": "execute_result"
    }
   ],
   "source": [
    "df.head()"
   ]
  },
  {
   "cell_type": "code",
   "execution_count": 723,
   "metadata": {},
   "outputs": [],
   "source": [
    "df = df.dropna().reset_index(drop=True)\n",
    "df.price2 = df.price2/1000"
   ]
  },
  {
   "cell_type": "code",
   "execution_count": 724,
   "metadata": {},
   "outputs": [
    {
     "data": {
      "text/plain": [
       "(391, 10)"
      ]
     },
     "execution_count": 724,
     "metadata": {},
     "output_type": "execute_result"
    }
   ],
   "source": [
    "df.shape"
   ]
  },
  {
   "cell_type": "code",
   "execution_count": 725,
   "metadata": {},
   "outputs": [
    {
     "data": {
      "text/html": [
       "<div>\n",
       "<style scoped>\n",
       "    .dataframe tbody tr th:only-of-type {\n",
       "        vertical-align: middle;\n",
       "    }\n",
       "\n",
       "    .dataframe tbody tr th {\n",
       "        vertical-align: top;\n",
       "    }\n",
       "\n",
       "    .dataframe thead th {\n",
       "        text-align: right;\n",
       "    }\n",
       "</style>\n",
       "<table border=\"1\" class=\"dataframe\">\n",
       "  <thead>\n",
       "    <tr style=\"text-align: right;\">\n",
       "      <th></th>\n",
       "      <th>Floor Size</th>\n",
       "      <th>Garden</th>\n",
       "      <th>Type of Property</th>\n",
       "      <th>Pets Allowed</th>\n",
       "      <th>Reception Rooms</th>\n",
       "      <th>Pool</th>\n",
       "      <th>price2</th>\n",
       "      <th>Bedrooms2</th>\n",
       "      <th>Bathrooms2</th>\n",
       "      <th>Parking</th>\n",
       "    </tr>\n",
       "  </thead>\n",
       "  <tbody>\n",
       "    <tr>\n",
       "      <th>0</th>\n",
       "      <td>41.00</td>\n",
       "      <td>No</td>\n",
       "      <td>Apartment / Flat</td>\n",
       "      <td>Yes</td>\n",
       "      <td>0.00</td>\n",
       "      <td>Yes</td>\n",
       "      <td>1150.00</td>\n",
       "      <td>1.00</td>\n",
       "      <td>1.00</td>\n",
       "      <td>1.00</td>\n",
       "    </tr>\n",
       "    <tr>\n",
       "      <th>1</th>\n",
       "      <td>272.00</td>\n",
       "      <td>Yes</td>\n",
       "      <td>House</td>\n",
       "      <td>Yes</td>\n",
       "      <td>0.00</td>\n",
       "      <td>Yes</td>\n",
       "      <td>4850.00</td>\n",
       "      <td>4.00</td>\n",
       "      <td>3.00</td>\n",
       "      <td>2.00</td>\n",
       "    </tr>\n",
       "    <tr>\n",
       "      <th>2</th>\n",
       "      <td>109.00</td>\n",
       "      <td>No</td>\n",
       "      <td>Apartment / Flat</td>\n",
       "      <td>Yes</td>\n",
       "      <td>0.00</td>\n",
       "      <td>Yes</td>\n",
       "      <td>2080.00</td>\n",
       "      <td>3.00</td>\n",
       "      <td>2.00</td>\n",
       "      <td>2.00</td>\n",
       "    </tr>\n",
       "    <tr>\n",
       "      <th>3</th>\n",
       "      <td>113.00</td>\n",
       "      <td>No</td>\n",
       "      <td>Apartment / Flat</td>\n",
       "      <td>Yes</td>\n",
       "      <td>0.00</td>\n",
       "      <td>No</td>\n",
       "      <td>1879.50</td>\n",
       "      <td>3.00</td>\n",
       "      <td>2.00</td>\n",
       "      <td>1.00</td>\n",
       "    </tr>\n",
       "    <tr>\n",
       "      <th>4</th>\n",
       "      <td>307.00</td>\n",
       "      <td>Yes</td>\n",
       "      <td>House</td>\n",
       "      <td>Yes</td>\n",
       "      <td>0.00</td>\n",
       "      <td>Yes</td>\n",
       "      <td>5350.00</td>\n",
       "      <td>4.00</td>\n",
       "      <td>4.00</td>\n",
       "      <td>0.00</td>\n",
       "    </tr>\n",
       "  </tbody>\n",
       "</table>\n",
       "</div>"
      ],
      "text/plain": [
       "   Floor Size Garden  Type of Property Pets Allowed  Reception Rooms Pool  \\\n",
       "0       41.00     No  Apartment / Flat          Yes             0.00  Yes   \n",
       "1      272.00    Yes             House          Yes             0.00  Yes   \n",
       "2      109.00     No  Apartment / Flat          Yes             0.00  Yes   \n",
       "3      113.00     No  Apartment / Flat          Yes             0.00   No   \n",
       "4      307.00    Yes             House          Yes             0.00  Yes   \n",
       "\n",
       "   price2  Bedrooms2  Bathrooms2  Parking  \n",
       "0 1150.00       1.00        1.00     1.00  \n",
       "1 4850.00       4.00        3.00     2.00  \n",
       "2 2080.00       3.00        2.00     2.00  \n",
       "3 1879.50       3.00        2.00     1.00  \n",
       "4 5350.00       4.00        4.00     0.00  "
      ]
     },
     "execution_count": 725,
     "metadata": {},
     "output_type": "execute_result"
    }
   ],
   "source": [
    "df.head()"
   ]
  },
  {
   "cell_type": "code",
   "execution_count": 726,
   "metadata": {},
   "outputs": [
    {
     "data": {
      "text/plain": [
       "Index(['Floor Size', 'Garden', 'Type of Property', 'Pets Allowed',\n",
       "       'Reception Rooms', 'Pool', 'price2', 'Bedrooms2', 'Bathrooms2',\n",
       "       'Parking'],\n",
       "      dtype='object')"
      ]
     },
     "execution_count": 726,
     "metadata": {},
     "output_type": "execute_result"
    }
   ],
   "source": [
    "df.columns"
   ]
  },
  {
   "cell_type": "code",
   "execution_count": 727,
   "metadata": {},
   "outputs": [],
   "source": [
    "df2 = pd.get_dummies(df, columns=[\"Type of Property\", \"Pool\", \"Garden\", \"Pets Allowed\",], drop_first=True)"
   ]
  },
  {
   "cell_type": "code",
   "execution_count": 728,
   "metadata": {},
   "outputs": [
    {
     "data": {
      "text/html": [
       "<div>\n",
       "<style scoped>\n",
       "    .dataframe tbody tr th:only-of-type {\n",
       "        vertical-align: middle;\n",
       "    }\n",
       "\n",
       "    .dataframe tbody tr th {\n",
       "        vertical-align: top;\n",
       "    }\n",
       "\n",
       "    .dataframe thead th {\n",
       "        text-align: right;\n",
       "    }\n",
       "</style>\n",
       "<table border=\"1\" class=\"dataframe\">\n",
       "  <thead>\n",
       "    <tr style=\"text-align: right;\">\n",
       "      <th></th>\n",
       "      <th>Floor Size</th>\n",
       "      <th>Reception Rooms</th>\n",
       "      <th>price2</th>\n",
       "      <th>Bedrooms2</th>\n",
       "      <th>Bathrooms2</th>\n",
       "      <th>Parking</th>\n",
       "      <th>Type of Property_House</th>\n",
       "      <th>Type of Property_Townhouse</th>\n",
       "      <th>Pool_Yes</th>\n",
       "      <th>Garden_Yes</th>\n",
       "      <th>Pets Allowed_Yes</th>\n",
       "    </tr>\n",
       "  </thead>\n",
       "  <tbody>\n",
       "    <tr>\n",
       "      <th>0</th>\n",
       "      <td>41.00</td>\n",
       "      <td>0.00</td>\n",
       "      <td>1150.00</td>\n",
       "      <td>1.00</td>\n",
       "      <td>1.00</td>\n",
       "      <td>1.00</td>\n",
       "      <td>False</td>\n",
       "      <td>False</td>\n",
       "      <td>True</td>\n",
       "      <td>False</td>\n",
       "      <td>True</td>\n",
       "    </tr>\n",
       "    <tr>\n",
       "      <th>1</th>\n",
       "      <td>272.00</td>\n",
       "      <td>0.00</td>\n",
       "      <td>4850.00</td>\n",
       "      <td>4.00</td>\n",
       "      <td>3.00</td>\n",
       "      <td>2.00</td>\n",
       "      <td>True</td>\n",
       "      <td>False</td>\n",
       "      <td>True</td>\n",
       "      <td>True</td>\n",
       "      <td>True</td>\n",
       "    </tr>\n",
       "    <tr>\n",
       "      <th>2</th>\n",
       "      <td>109.00</td>\n",
       "      <td>0.00</td>\n",
       "      <td>2080.00</td>\n",
       "      <td>3.00</td>\n",
       "      <td>2.00</td>\n",
       "      <td>2.00</td>\n",
       "      <td>False</td>\n",
       "      <td>False</td>\n",
       "      <td>True</td>\n",
       "      <td>False</td>\n",
       "      <td>True</td>\n",
       "    </tr>\n",
       "    <tr>\n",
       "      <th>3</th>\n",
       "      <td>113.00</td>\n",
       "      <td>0.00</td>\n",
       "      <td>1879.50</td>\n",
       "      <td>3.00</td>\n",
       "      <td>2.00</td>\n",
       "      <td>1.00</td>\n",
       "      <td>False</td>\n",
       "      <td>False</td>\n",
       "      <td>False</td>\n",
       "      <td>False</td>\n",
       "      <td>True</td>\n",
       "    </tr>\n",
       "    <tr>\n",
       "      <th>4</th>\n",
       "      <td>307.00</td>\n",
       "      <td>0.00</td>\n",
       "      <td>5350.00</td>\n",
       "      <td>4.00</td>\n",
       "      <td>4.00</td>\n",
       "      <td>0.00</td>\n",
       "      <td>True</td>\n",
       "      <td>False</td>\n",
       "      <td>True</td>\n",
       "      <td>True</td>\n",
       "      <td>True</td>\n",
       "    </tr>\n",
       "  </tbody>\n",
       "</table>\n",
       "</div>"
      ],
      "text/plain": [
       "   Floor Size  Reception Rooms  price2  Bedrooms2  Bathrooms2  Parking  \\\n",
       "0       41.00             0.00 1150.00       1.00        1.00     1.00   \n",
       "1      272.00             0.00 4850.00       4.00        3.00     2.00   \n",
       "2      109.00             0.00 2080.00       3.00        2.00     2.00   \n",
       "3      113.00             0.00 1879.50       3.00        2.00     1.00   \n",
       "4      307.00             0.00 5350.00       4.00        4.00     0.00   \n",
       "\n",
       "   Type of Property_House  Type of Property_Townhouse  Pool_Yes  Garden_Yes  \\\n",
       "0                   False                       False      True       False   \n",
       "1                    True                       False      True        True   \n",
       "2                   False                       False      True       False   \n",
       "3                   False                       False     False       False   \n",
       "4                    True                       False      True        True   \n",
       "\n",
       "   Pets Allowed_Yes  \n",
       "0              True  \n",
       "1              True  \n",
       "2              True  \n",
       "3              True  \n",
       "4              True  "
      ]
     },
     "execution_count": 728,
     "metadata": {},
     "output_type": "execute_result"
    }
   ],
   "source": [
    "# df2\n",
    "# df2=df\n",
    "df2.head()"
   ]
  },
  {
   "cell_type": "code",
   "execution_count": 729,
   "metadata": {},
   "outputs": [],
   "source": [
    "# lets build our linear model\n",
    "# independant variables\n",
    "X = df2.drop(['price2'], axis=1)\n",
    "# the dependent variable\n",
    "y = df2[['price2']]"
   ]
  },
  {
   "cell_type": "markdown",
   "metadata": {},
   "source": [
    "# Modelling"
   ]
  },
  {
   "cell_type": "code",
   "execution_count": 730,
   "metadata": {},
   "outputs": [],
   "source": [
    "from sklearn.metrics import mean_absolute_error, mean_squared_error, r2_score, root_mean_squared_error\n",
    "from sklearn.model_selection import train_test_split\n",
    "from sklearn.linear_model import LinearRegression, Lasso, Ridge\n",
    "from sklearn.preprocessing import StandardScaler"
   ]
  },
  {
   "cell_type": "code",
   "execution_count": 731,
   "metadata": {},
   "outputs": [],
   "source": [
    "# Split X and y into training and test set in 70:30 ratio\n",
    "X_train, X_test, y_train, y_test = train_test_split(X, y, test_size=0.30, random_state=42)\n",
    "\n",
    "scaler = StandardScaler()\n",
    "X_train = scaler.fit_transform(X_train)\n",
    "X_test = scaler.transform(X_test)\n",
    "y_train, y_test = np.array(y_train).ravel(), y_test"
   ]
  },
  {
   "cell_type": "code",
   "execution_count": 732,
   "metadata": {},
   "outputs": [],
   "source": [
    "all_results = []"
   ]
  },
  {
   "cell_type": "markdown",
   "metadata": {},
   "source": [
    "## 1. Linear regression model"
   ]
  },
  {
   "cell_type": "code",
   "execution_count": 733,
   "metadata": {},
   "outputs": [
    {
     "name": "stdout",
     "output_type": "stream",
     "text": [
      "The intercept for our model is 3190.8113479853478\n"
     ]
    }
   ],
   "source": [
    "regression_model = LinearRegression()\n",
    "regression_model.fit(X_train, y_train)\n",
    "\n",
    "intercept = regression_model.intercept_\n",
    "print(\"The intercept for our model is {}\".format(intercept))"
   ]
  },
  {
   "cell_type": "code",
   "execution_count": 734,
   "metadata": {},
   "outputs": [],
   "source": [
    "# for idx, col_name in enumerate(X_train.columns):\n",
    "#     print(\"The coefficient for {} is {}\".format(col_name, regression_model.coef_[0][idx]))"
   ]
  },
  {
   "cell_type": "code",
   "execution_count": 735,
   "metadata": {},
   "outputs": [],
   "source": [
    "# y_true = y_test[\"price2\"]\n",
    "# pd.DataFrame({\"y_true\": y_true.to_list(), \"y_pred\": y_pred.ravel()})"
   ]
  },
  {
   "cell_type": "code",
   "execution_count": 736,
   "metadata": {},
   "outputs": [],
   "source": [
    "y_pred_test = regression_model.predict(X_test)\n",
    "y_pred_train = regression_model.predict(X_train)\n",
    "\n",
    "results = {\n",
    "    \"model\": \"LinearRegression\",\n",
    "    \"r2_test\": r2_score(y_pred_test, y_test),\n",
    "    \"r2_train\": r2_score(y_pred_train, y_train),\n",
    "    \"mae_test\": mean_absolute_error(y_pred_test, y_test),\n",
    "    \"mae_train\": mean_absolute_error(y_pred_train, y_train),\n",
    "    \"mse_test\": mean_squared_error(y_pred_test, y_test),\n",
    "    \"mse_train\": mean_squared_error(y_pred_train, y_train)\n",
    "}\n",
    "all_results.append(results)"
   ]
  },
  {
   "cell_type": "code",
   "execution_count": 737,
   "metadata": {},
   "outputs": [
    {
     "data": {
      "text/plain": [
       "{'model': 'LinearRegression',\n",
       " 'r2_test': 0.9322297348168076,\n",
       " 'r2_train': 0.9160872027170253,\n",
       " 'mae_test': np.float64(206.85705346331483),\n",
       " 'mae_train': np.float64(221.78468007017477),\n",
       " 'mse_test': np.float64(82194.84167664412),\n",
       " 'mse_train': np.float64(105127.43091738636)}"
      ]
     },
     "execution_count": 737,
     "metadata": {},
     "output_type": "execute_result"
    }
   ],
   "source": [
    "results"
   ]
  },
  {
   "cell_type": "markdown",
   "metadata": {},
   "source": [
    "## 2. Ridge Regression"
   ]
  },
  {
   "cell_type": "code",
   "execution_count": 738,
   "metadata": {},
   "outputs": [
    {
     "name": "stdout",
     "output_type": "stream",
     "text": [
      "Ridge Regression MSE: 81753.06340113831\n"
     ]
    }
   ],
   "source": [
    "# Initialize Ridge model\n",
    "ridge = Ridge(alpha=10)  # alpha is the regularization strength\n",
    "\n",
    "# Fit the model\n",
    "ridge.fit(X_train, y_train)\n",
    "\n",
    "# Predict on the test set\n",
    "y_pred_ridge = ridge.predict(X_test)\n",
    "\n",
    "# Evaluate the model\n",
    "mse_ridge = mean_squared_error(y_test, y_pred_ridge)\n",
    "print(f'Ridge Regression MSE: {mse_ridge}')"
   ]
  },
  {
   "cell_type": "code",
   "execution_count": 739,
   "metadata": {},
   "outputs": [],
   "source": [
    "y_pred_test = ridge.predict(X_test)\n",
    "y_pred_train = ridge.predict(X_train)\n",
    "\n",
    "results = {\n",
    "    \"model\": \"Ridge Regression\",\n",
    "    \"r2_test\": r2_score(y_pred_test, y_test),\n",
    "    \"r2_train\": r2_score(y_pred_train, y_train),\n",
    "    \"mae_test\": mean_absolute_error(y_pred_test, y_test),\n",
    "    \"mae_train\": mean_absolute_error(y_pred_train, y_train),\n",
    "    \"mse_test\": mean_squared_error(y_pred_test, y_test),\n",
    "    \"mse_train\": mean_squared_error(y_pred_train, y_train)\n",
    "}\n",
    "all_results.append(results)"
   ]
  },
  {
   "cell_type": "code",
   "execution_count": 740,
   "metadata": {},
   "outputs": [
    {
     "data": {
      "text/plain": [
       "{'model': 'Ridge Regression',\n",
       " 'r2_test': 0.9299220419481867,\n",
       " 'r2_train': 0.9122504398266492,\n",
       " 'mae_test': np.float64(210.39127132152902),\n",
       " 'mae_train': np.float64(227.77210217803244),\n",
       " 'mse_test': np.float64(81753.06340113831),\n",
       " 'mse_train': np.float64(106623.91693159028)}"
      ]
     },
     "execution_count": 740,
     "metadata": {},
     "output_type": "execute_result"
    }
   ],
   "source": [
    "results"
   ]
  },
  {
   "cell_type": "code",
   "execution_count": 741,
   "metadata": {},
   "outputs": [],
   "source": [
    "# y_pred = ridge.predict(X_test)\n",
    "# y_true = y_test[\"price2\"]\n",
    "# pd.DataFrame({\"y_true\": y_true.to_list(), \"y_pred\": y_pred.ravel()})"
   ]
  },
  {
   "cell_type": "markdown",
   "metadata": {},
   "source": [
    "## 3. Laso Regression"
   ]
  },
  {
   "cell_type": "code",
   "execution_count": 742,
   "metadata": {},
   "outputs": [
    {
     "name": "stdout",
     "output_type": "stream",
     "text": [
      "Lasso Regression MSE: 84946.97965996167\n"
     ]
    }
   ],
   "source": [
    "# Initialize Lasso model\n",
    "lasso = Lasso(alpha=10)  # alpha is the regularization strength\n",
    "\n",
    "# Fit the model\n",
    "lasso.fit(X_train, y_train)\n",
    "\n",
    "# Predict on the test set\n",
    "y_pred_lasso = lasso.predict(X_test)\n",
    "\n",
    "# Evaluate the model\n",
    "mse_lasso = mean_squared_error(y_test, y_pred_lasso)\n",
    "print(f'Lasso Regression MSE: {mse_lasso}')"
   ]
  },
  {
   "cell_type": "code",
   "execution_count": 743,
   "metadata": {},
   "outputs": [],
   "source": [
    "y_pred_test = lasso.predict(X_test)\n",
    "y_pred_train = lasso.predict(X_train)\n",
    "\n",
    "results = {\n",
    "    \"model\": \"Lasso Regression\",\n",
    "    \"r2_test\": r2_score(y_pred_test, y_test),\n",
    "    \"r2_train\": r2_score(y_pred_train, y_train),\n",
    "    \"mae_test\": mean_absolute_error(y_pred_test, y_test),\n",
    "    \"mae_train\": mean_absolute_error(y_pred_train, y_train),\n",
    "    \"mse_test\": mean_squared_error(y_pred_test, y_test),\n",
    "    \"mse_train\": mean_squared_error(y_pred_train, y_train)\n",
    "}\n",
    "all_results.append(results)"
   ]
  },
  {
   "cell_type": "code",
   "execution_count": 744,
   "metadata": {},
   "outputs": [],
   "source": [
    "# y_pred = ridge.predict(X_test)\n",
    "# y_true = y_test[\"price2\"]\n",
    "# pd.DataFrame({\"y_true\": y_true.to_list(), \"y_pred\": y_pred.ravel()}).to_dict(orient=\"records\")"
   ]
  },
  {
   "cell_type": "markdown",
   "metadata": {},
   "source": [
    "## 4. Polynomial Regression"
   ]
  },
  {
   "cell_type": "code",
   "execution_count": 745,
   "metadata": {},
   "outputs": [
    {
     "data": {
      "text/html": [
       "<style>#sk-container-id-17 {\n",
       "  /* Definition of color scheme common for light and dark mode */\n",
       "  --sklearn-color-text: black;\n",
       "  --sklearn-color-line: gray;\n",
       "  /* Definition of color scheme for unfitted estimators */\n",
       "  --sklearn-color-unfitted-level-0: #fff5e6;\n",
       "  --sklearn-color-unfitted-level-1: #f6e4d2;\n",
       "  --sklearn-color-unfitted-level-2: #ffe0b3;\n",
       "  --sklearn-color-unfitted-level-3: chocolate;\n",
       "  /* Definition of color scheme for fitted estimators */\n",
       "  --sklearn-color-fitted-level-0: #f0f8ff;\n",
       "  --sklearn-color-fitted-level-1: #d4ebff;\n",
       "  --sklearn-color-fitted-level-2: #b3dbfd;\n",
       "  --sklearn-color-fitted-level-3: cornflowerblue;\n",
       "\n",
       "  /* Specific color for light theme */\n",
       "  --sklearn-color-text-on-default-background: var(--sg-text-color, var(--theme-code-foreground, var(--jp-content-font-color1, black)));\n",
       "  --sklearn-color-background: var(--sg-background-color, var(--theme-background, var(--jp-layout-color0, white)));\n",
       "  --sklearn-color-border-box: var(--sg-text-color, var(--theme-code-foreground, var(--jp-content-font-color1, black)));\n",
       "  --sklearn-color-icon: #696969;\n",
       "\n",
       "  @media (prefers-color-scheme: dark) {\n",
       "    /* Redefinition of color scheme for dark theme */\n",
       "    --sklearn-color-text-on-default-background: var(--sg-text-color, var(--theme-code-foreground, var(--jp-content-font-color1, white)));\n",
       "    --sklearn-color-background: var(--sg-background-color, var(--theme-background, var(--jp-layout-color0, #111)));\n",
       "    --sklearn-color-border-box: var(--sg-text-color, var(--theme-code-foreground, var(--jp-content-font-color1, white)));\n",
       "    --sklearn-color-icon: #878787;\n",
       "  }\n",
       "}\n",
       "\n",
       "#sk-container-id-17 {\n",
       "  color: var(--sklearn-color-text);\n",
       "}\n",
       "\n",
       "#sk-container-id-17 pre {\n",
       "  padding: 0;\n",
       "}\n",
       "\n",
       "#sk-container-id-17 input.sk-hidden--visually {\n",
       "  border: 0;\n",
       "  clip: rect(1px 1px 1px 1px);\n",
       "  clip: rect(1px, 1px, 1px, 1px);\n",
       "  height: 1px;\n",
       "  margin: -1px;\n",
       "  overflow: hidden;\n",
       "  padding: 0;\n",
       "  position: absolute;\n",
       "  width: 1px;\n",
       "}\n",
       "\n",
       "#sk-container-id-17 div.sk-dashed-wrapped {\n",
       "  border: 1px dashed var(--sklearn-color-line);\n",
       "  margin: 0 0.4em 0.5em 0.4em;\n",
       "  box-sizing: border-box;\n",
       "  padding-bottom: 0.4em;\n",
       "  background-color: var(--sklearn-color-background);\n",
       "}\n",
       "\n",
       "#sk-container-id-17 div.sk-container {\n",
       "  /* jupyter's `normalize.less` sets `[hidden] { display: none; }`\n",
       "     but bootstrap.min.css set `[hidden] { display: none !important; }`\n",
       "     so we also need the `!important` here to be able to override the\n",
       "     default hidden behavior on the sphinx rendered scikit-learn.org.\n",
       "     See: https://github.com/scikit-learn/scikit-learn/issues/21755 */\n",
       "  display: inline-block !important;\n",
       "  position: relative;\n",
       "}\n",
       "\n",
       "#sk-container-id-17 div.sk-text-repr-fallback {\n",
       "  display: none;\n",
       "}\n",
       "\n",
       "div.sk-parallel-item,\n",
       "div.sk-serial,\n",
       "div.sk-item {\n",
       "  /* draw centered vertical line to link estimators */\n",
       "  background-image: linear-gradient(var(--sklearn-color-text-on-default-background), var(--sklearn-color-text-on-default-background));\n",
       "  background-size: 2px 100%;\n",
       "  background-repeat: no-repeat;\n",
       "  background-position: center center;\n",
       "}\n",
       "\n",
       "/* Parallel-specific style estimator block */\n",
       "\n",
       "#sk-container-id-17 div.sk-parallel-item::after {\n",
       "  content: \"\";\n",
       "  width: 100%;\n",
       "  border-bottom: 2px solid var(--sklearn-color-text-on-default-background);\n",
       "  flex-grow: 1;\n",
       "}\n",
       "\n",
       "#sk-container-id-17 div.sk-parallel {\n",
       "  display: flex;\n",
       "  align-items: stretch;\n",
       "  justify-content: center;\n",
       "  background-color: var(--sklearn-color-background);\n",
       "  position: relative;\n",
       "}\n",
       "\n",
       "#sk-container-id-17 div.sk-parallel-item {\n",
       "  display: flex;\n",
       "  flex-direction: column;\n",
       "}\n",
       "\n",
       "#sk-container-id-17 div.sk-parallel-item:first-child::after {\n",
       "  align-self: flex-end;\n",
       "  width: 50%;\n",
       "}\n",
       "\n",
       "#sk-container-id-17 div.sk-parallel-item:last-child::after {\n",
       "  align-self: flex-start;\n",
       "  width: 50%;\n",
       "}\n",
       "\n",
       "#sk-container-id-17 div.sk-parallel-item:only-child::after {\n",
       "  width: 0;\n",
       "}\n",
       "\n",
       "/* Serial-specific style estimator block */\n",
       "\n",
       "#sk-container-id-17 div.sk-serial {\n",
       "  display: flex;\n",
       "  flex-direction: column;\n",
       "  align-items: center;\n",
       "  background-color: var(--sklearn-color-background);\n",
       "  padding-right: 1em;\n",
       "  padding-left: 1em;\n",
       "}\n",
       "\n",
       "\n",
       "/* Toggleable style: style used for estimator/Pipeline/ColumnTransformer box that is\n",
       "clickable and can be expanded/collapsed.\n",
       "- Pipeline and ColumnTransformer use this feature and define the default style\n",
       "- Estimators will overwrite some part of the style using the `sk-estimator` class\n",
       "*/\n",
       "\n",
       "/* Pipeline and ColumnTransformer style (default) */\n",
       "\n",
       "#sk-container-id-17 div.sk-toggleable {\n",
       "  /* Default theme specific background. It is overwritten whether we have a\n",
       "  specific estimator or a Pipeline/ColumnTransformer */\n",
       "  background-color: var(--sklearn-color-background);\n",
       "}\n",
       "\n",
       "/* Toggleable label */\n",
       "#sk-container-id-17 label.sk-toggleable__label {\n",
       "  cursor: pointer;\n",
       "  display: block;\n",
       "  width: 100%;\n",
       "  margin-bottom: 0;\n",
       "  padding: 0.5em;\n",
       "  box-sizing: border-box;\n",
       "  text-align: center;\n",
       "}\n",
       "\n",
       "#sk-container-id-17 label.sk-toggleable__label-arrow:before {\n",
       "  /* Arrow on the left of the label */\n",
       "  content: \"▸\";\n",
       "  float: left;\n",
       "  margin-right: 0.25em;\n",
       "  color: var(--sklearn-color-icon);\n",
       "}\n",
       "\n",
       "#sk-container-id-17 label.sk-toggleable__label-arrow:hover:before {\n",
       "  color: var(--sklearn-color-text);\n",
       "}\n",
       "\n",
       "/* Toggleable content - dropdown */\n",
       "\n",
       "#sk-container-id-17 div.sk-toggleable__content {\n",
       "  max-height: 0;\n",
       "  max-width: 0;\n",
       "  overflow: hidden;\n",
       "  text-align: left;\n",
       "  /* unfitted */\n",
       "  background-color: var(--sklearn-color-unfitted-level-0);\n",
       "}\n",
       "\n",
       "#sk-container-id-17 div.sk-toggleable__content.fitted {\n",
       "  /* fitted */\n",
       "  background-color: var(--sklearn-color-fitted-level-0);\n",
       "}\n",
       "\n",
       "#sk-container-id-17 div.sk-toggleable__content pre {\n",
       "  margin: 0.2em;\n",
       "  border-radius: 0.25em;\n",
       "  color: var(--sklearn-color-text);\n",
       "  /* unfitted */\n",
       "  background-color: var(--sklearn-color-unfitted-level-0);\n",
       "}\n",
       "\n",
       "#sk-container-id-17 div.sk-toggleable__content.fitted pre {\n",
       "  /* unfitted */\n",
       "  background-color: var(--sklearn-color-fitted-level-0);\n",
       "}\n",
       "\n",
       "#sk-container-id-17 input.sk-toggleable__control:checked~div.sk-toggleable__content {\n",
       "  /* Expand drop-down */\n",
       "  max-height: 200px;\n",
       "  max-width: 100%;\n",
       "  overflow: auto;\n",
       "}\n",
       "\n",
       "#sk-container-id-17 input.sk-toggleable__control:checked~label.sk-toggleable__label-arrow:before {\n",
       "  content: \"▾\";\n",
       "}\n",
       "\n",
       "/* Pipeline/ColumnTransformer-specific style */\n",
       "\n",
       "#sk-container-id-17 div.sk-label input.sk-toggleable__control:checked~label.sk-toggleable__label {\n",
       "  color: var(--sklearn-color-text);\n",
       "  background-color: var(--sklearn-color-unfitted-level-2);\n",
       "}\n",
       "\n",
       "#sk-container-id-17 div.sk-label.fitted input.sk-toggleable__control:checked~label.sk-toggleable__label {\n",
       "  background-color: var(--sklearn-color-fitted-level-2);\n",
       "}\n",
       "\n",
       "/* Estimator-specific style */\n",
       "\n",
       "/* Colorize estimator box */\n",
       "#sk-container-id-17 div.sk-estimator input.sk-toggleable__control:checked~label.sk-toggleable__label {\n",
       "  /* unfitted */\n",
       "  background-color: var(--sklearn-color-unfitted-level-2);\n",
       "}\n",
       "\n",
       "#sk-container-id-17 div.sk-estimator.fitted input.sk-toggleable__control:checked~label.sk-toggleable__label {\n",
       "  /* fitted */\n",
       "  background-color: var(--sklearn-color-fitted-level-2);\n",
       "}\n",
       "\n",
       "#sk-container-id-17 div.sk-label label.sk-toggleable__label,\n",
       "#sk-container-id-17 div.sk-label label {\n",
       "  /* The background is the default theme color */\n",
       "  color: var(--sklearn-color-text-on-default-background);\n",
       "}\n",
       "\n",
       "/* On hover, darken the color of the background */\n",
       "#sk-container-id-17 div.sk-label:hover label.sk-toggleable__label {\n",
       "  color: var(--sklearn-color-text);\n",
       "  background-color: var(--sklearn-color-unfitted-level-2);\n",
       "}\n",
       "\n",
       "/* Label box, darken color on hover, fitted */\n",
       "#sk-container-id-17 div.sk-label.fitted:hover label.sk-toggleable__label.fitted {\n",
       "  color: var(--sklearn-color-text);\n",
       "  background-color: var(--sklearn-color-fitted-level-2);\n",
       "}\n",
       "\n",
       "/* Estimator label */\n",
       "\n",
       "#sk-container-id-17 div.sk-label label {\n",
       "  font-family: monospace;\n",
       "  font-weight: bold;\n",
       "  display: inline-block;\n",
       "  line-height: 1.2em;\n",
       "}\n",
       "\n",
       "#sk-container-id-17 div.sk-label-container {\n",
       "  text-align: center;\n",
       "}\n",
       "\n",
       "/* Estimator-specific */\n",
       "#sk-container-id-17 div.sk-estimator {\n",
       "  font-family: monospace;\n",
       "  border: 1px dotted var(--sklearn-color-border-box);\n",
       "  border-radius: 0.25em;\n",
       "  box-sizing: border-box;\n",
       "  margin-bottom: 0.5em;\n",
       "  /* unfitted */\n",
       "  background-color: var(--sklearn-color-unfitted-level-0);\n",
       "}\n",
       "\n",
       "#sk-container-id-17 div.sk-estimator.fitted {\n",
       "  /* fitted */\n",
       "  background-color: var(--sklearn-color-fitted-level-0);\n",
       "}\n",
       "\n",
       "/* on hover */\n",
       "#sk-container-id-17 div.sk-estimator:hover {\n",
       "  /* unfitted */\n",
       "  background-color: var(--sklearn-color-unfitted-level-2);\n",
       "}\n",
       "\n",
       "#sk-container-id-17 div.sk-estimator.fitted:hover {\n",
       "  /* fitted */\n",
       "  background-color: var(--sklearn-color-fitted-level-2);\n",
       "}\n",
       "\n",
       "/* Specification for estimator info (e.g. \"i\" and \"?\") */\n",
       "\n",
       "/* Common style for \"i\" and \"?\" */\n",
       "\n",
       ".sk-estimator-doc-link,\n",
       "a:link.sk-estimator-doc-link,\n",
       "a:visited.sk-estimator-doc-link {\n",
       "  float: right;\n",
       "  font-size: smaller;\n",
       "  line-height: 1em;\n",
       "  font-family: monospace;\n",
       "  background-color: var(--sklearn-color-background);\n",
       "  border-radius: 1em;\n",
       "  height: 1em;\n",
       "  width: 1em;\n",
       "  text-decoration: none !important;\n",
       "  margin-left: 1ex;\n",
       "  /* unfitted */\n",
       "  border: var(--sklearn-color-unfitted-level-1) 1pt solid;\n",
       "  color: var(--sklearn-color-unfitted-level-1);\n",
       "}\n",
       "\n",
       ".sk-estimator-doc-link.fitted,\n",
       "a:link.sk-estimator-doc-link.fitted,\n",
       "a:visited.sk-estimator-doc-link.fitted {\n",
       "  /* fitted */\n",
       "  border: var(--sklearn-color-fitted-level-1) 1pt solid;\n",
       "  color: var(--sklearn-color-fitted-level-1);\n",
       "}\n",
       "\n",
       "/* On hover */\n",
       "div.sk-estimator:hover .sk-estimator-doc-link:hover,\n",
       ".sk-estimator-doc-link:hover,\n",
       "div.sk-label-container:hover .sk-estimator-doc-link:hover,\n",
       ".sk-estimator-doc-link:hover {\n",
       "  /* unfitted */\n",
       "  background-color: var(--sklearn-color-unfitted-level-3);\n",
       "  color: var(--sklearn-color-background);\n",
       "  text-decoration: none;\n",
       "}\n",
       "\n",
       "div.sk-estimator.fitted:hover .sk-estimator-doc-link.fitted:hover,\n",
       ".sk-estimator-doc-link.fitted:hover,\n",
       "div.sk-label-container:hover .sk-estimator-doc-link.fitted:hover,\n",
       ".sk-estimator-doc-link.fitted:hover {\n",
       "  /* fitted */\n",
       "  background-color: var(--sklearn-color-fitted-level-3);\n",
       "  color: var(--sklearn-color-background);\n",
       "  text-decoration: none;\n",
       "}\n",
       "\n",
       "/* Span, style for the box shown on hovering the info icon */\n",
       ".sk-estimator-doc-link span {\n",
       "  display: none;\n",
       "  z-index: 9999;\n",
       "  position: relative;\n",
       "  font-weight: normal;\n",
       "  right: .2ex;\n",
       "  padding: .5ex;\n",
       "  margin: .5ex;\n",
       "  width: min-content;\n",
       "  min-width: 20ex;\n",
       "  max-width: 50ex;\n",
       "  color: var(--sklearn-color-text);\n",
       "  box-shadow: 2pt 2pt 4pt #999;\n",
       "  /* unfitted */\n",
       "  background: var(--sklearn-color-unfitted-level-0);\n",
       "  border: .5pt solid var(--sklearn-color-unfitted-level-3);\n",
       "}\n",
       "\n",
       ".sk-estimator-doc-link.fitted span {\n",
       "  /* fitted */\n",
       "  background: var(--sklearn-color-fitted-level-0);\n",
       "  border: var(--sklearn-color-fitted-level-3);\n",
       "}\n",
       "\n",
       ".sk-estimator-doc-link:hover span {\n",
       "  display: block;\n",
       "}\n",
       "\n",
       "/* \"?\"-specific style due to the `<a>` HTML tag */\n",
       "\n",
       "#sk-container-id-17 a.estimator_doc_link {\n",
       "  float: right;\n",
       "  font-size: 1rem;\n",
       "  line-height: 1em;\n",
       "  font-family: monospace;\n",
       "  background-color: var(--sklearn-color-background);\n",
       "  border-radius: 1rem;\n",
       "  height: 1rem;\n",
       "  width: 1rem;\n",
       "  text-decoration: none;\n",
       "  /* unfitted */\n",
       "  color: var(--sklearn-color-unfitted-level-1);\n",
       "  border: var(--sklearn-color-unfitted-level-1) 1pt solid;\n",
       "}\n",
       "\n",
       "#sk-container-id-17 a.estimator_doc_link.fitted {\n",
       "  /* fitted */\n",
       "  border: var(--sklearn-color-fitted-level-1) 1pt solid;\n",
       "  color: var(--sklearn-color-fitted-level-1);\n",
       "}\n",
       "\n",
       "/* On hover */\n",
       "#sk-container-id-17 a.estimator_doc_link:hover {\n",
       "  /* unfitted */\n",
       "  background-color: var(--sklearn-color-unfitted-level-3);\n",
       "  color: var(--sklearn-color-background);\n",
       "  text-decoration: none;\n",
       "}\n",
       "\n",
       "#sk-container-id-17 a.estimator_doc_link.fitted:hover {\n",
       "  /* fitted */\n",
       "  background-color: var(--sklearn-color-fitted-level-3);\n",
       "}\n",
       "</style><div id=\"sk-container-id-17\" class=\"sk-top-container\"><div class=\"sk-text-repr-fallback\"><pre>LinearRegression()</pre><b>In a Jupyter environment, please rerun this cell to show the HTML representation or trust the notebook. <br />On GitHub, the HTML representation is unable to render, please try loading this page with nbviewer.org.</b></div><div class=\"sk-container\" hidden><div class=\"sk-item\"><div class=\"sk-estimator fitted sk-toggleable\"><input class=\"sk-toggleable__control sk-hidden--visually\" id=\"sk-estimator-id-17\" type=\"checkbox\" checked><label for=\"sk-estimator-id-17\" class=\"sk-toggleable__label fitted sk-toggleable__label-arrow fitted\">&nbsp;&nbsp;LinearRegression<a class=\"sk-estimator-doc-link fitted\" rel=\"noreferrer\" target=\"_blank\" href=\"https://scikit-learn.org/1.5/modules/generated/sklearn.linear_model.LinearRegression.html\">?<span>Documentation for LinearRegression</span></a><span class=\"sk-estimator-doc-link fitted\">i<span>Fitted</span></span></label><div class=\"sk-toggleable__content fitted\"><pre>LinearRegression()</pre></div> </div></div></div></div>"
      ],
      "text/plain": [
       "LinearRegression()"
      ]
     },
     "execution_count": 745,
     "metadata": {},
     "output_type": "execute_result"
    }
   ],
   "source": [
    "import numpy as np\n",
    "from sklearn.linear_model import LinearRegression\n",
    "from sklearn.preprocessing import PolynomialFeatures\n",
    "from sklearn.metrics import mean_squared_error, r2_score\n",
    "from sklearn.model_selection import train_test_split\n",
    "\n",
    "# Polynomial features transformation (degree 2)\n",
    "poly = PolynomialFeatures(degree=2)\n",
    "X_poly = poly.fit_transform(X)\n",
    "\n",
    "# Split data into training and testing sets\n",
    "X_train_poly, X_test_poly, y_train_poly, y_test_poly = train_test_split(X_poly, y, test_size=0.3, random_state=42)\n",
    "\n",
    "# Fit the model\n",
    "poly_model = LinearRegression()\n",
    "poly_model.fit(X_train_poly, y_train_poly)\n"
   ]
  },
  {
   "cell_type": "code",
   "execution_count": 746,
   "metadata": {},
   "outputs": [],
   "source": [
    "y_pred_test = poly_model.predict(X_test_poly)\n",
    "y_pred_train = poly_model.predict(X_train_poly)\n",
    "\n",
    "results = {\n",
    "    \"model\": \"Polynomial Regression\",\n",
    "    \"r2_test\": r2_score(y_pred_test, y_test),\n",
    "    \"r2_train\": r2_score(y_pred_train, y_train),\n",
    "    \"mae_test\": mean_absolute_error(y_pred_test, y_test),\n",
    "    \"mae_train\": mean_absolute_error(y_pred_train, y_train),\n",
    "    \"mse_test\": mean_squared_error(y_pred_test, y_test),\n",
    "    \"mse_train\": mean_squared_error(y_pred_train, y_train)\n",
    "}\n",
    "all_results.append(results)"
   ]
  },
  {
   "cell_type": "code",
   "execution_count": 747,
   "metadata": {},
   "outputs": [
    {
     "data": {
      "text/plain": [
       "{'model': 'Polynomial Regression',\n",
       " 'r2_test': 0.9048791861796166,\n",
       " 'r2_train': 0.9504911790464324,\n",
       " 'mae_test': np.float64(233.07420455673994),\n",
       " 'mae_train': np.float64(186.23838919056203),\n",
       " 'mse_test': np.float64(119734.98941127594),\n",
       " 'mse_train': np.float64(65182.660335111585)}"
      ]
     },
     "execution_count": 747,
     "metadata": {},
     "output_type": "execute_result"
    }
   ],
   "source": [
    "results"
   ]
  },
  {
   "cell_type": "code",
   "execution_count": 748,
   "metadata": {},
   "outputs": [],
   "source": [
    "# y_pred_poly = poly.predict(X_test_poly)\n",
    "# y_true_poly = y_test_poly[\"price2\"]\n",
    "# pd.DataFrame({\"y_true\": y_true_poly.to_list(), \"y_pred\": y_pred_poly.ravel()}).to_dict(orient=\"records\")"
   ]
  },
  {
   "cell_type": "markdown",
   "metadata": {},
   "source": [
    "## 5. Decision Trees"
   ]
  },
  {
   "cell_type": "code",
   "execution_count": 749,
   "metadata": {},
   "outputs": [],
   "source": [
    "import numpy as np\n",
    "from sklearn.tree import DecisionTreeRegressor\n",
    "from sklearn.metrics import mean_squared_error, r2_score\n",
    "from sklearn.model_selection import train_test_split\n",
    "\n",
    "# # Sample data\n",
    "# X = np.array([1, 2, 3, 4, 5]).reshape(-1, 1)\n",
    "# y = np.array([1.5, 3.7, 2.8, 5.5, 7.8])\n",
    "\n",
    "# # Split data into training and testing sets\n",
    "# X_train, X_test, y_train, y_test = train_test_split(X, y, test_size=0.2, random_state=42)\n",
    "\n",
    "# Fit the model\n",
    "tree_reg = DecisionTreeRegressor(random_state=42)\n",
    "tree_reg.fit(X_train, y_train)\n",
    "\n",
    "y_pred_test = tree_reg.predict(X_test)\n",
    "y_pred_train = tree_reg.predict(X_train)\n",
    "\n",
    "results = {\n",
    "    \"model\": \"Decision Tree Regressor\",\n",
    "    \"r2_test\": r2_score(y_pred_test, y_test),\n",
    "    \"r2_train\": r2_score(y_pred_train, y_train),\n",
    "    \"mae_test\": mean_absolute_error(y_pred_test, y_test),\n",
    "    \"mae_train\": mean_absolute_error(y_pred_train, y_train),\n",
    "    \"mse_test\": mean_squared_error(y_pred_test, y_test),\n",
    "    \"mse_train\": mean_squared_error(y_pred_train, y_train)\n",
    "}\n",
    "all_results.append(results)"
   ]
  },
  {
   "cell_type": "code",
   "execution_count": 750,
   "metadata": {},
   "outputs": [
    {
     "name": "stdout",
     "output_type": "stream",
     "text": [
      "Best parameters found:  {'criterion': 'absolute_error', 'max_depth': 4, 'min_samples_leaf': 4, 'min_samples_split': 10}\n"
     ]
    }
   ],
   "source": [
    "import numpy as np\n",
    "from sklearn.tree import DecisionTreeRegressor\n",
    "from sklearn.model_selection import GridSearchCV, train_test_split\n",
    "from sklearn.metrics import mean_squared_error, r2_score\n",
    "\n",
    "# Initialize the Decision Tree Regressor\n",
    "tree_reg = DecisionTreeRegressor(random_state=42)\n",
    "\n",
    "# Define the parameter grid\n",
    "param_grid = {\n",
    "    \"max_depth\": [None, 2, 3, 4, 5],          # Maximum depth of the tree\n",
    "    \"min_samples_split\": [2, 5, 10],         # Minimum number of samples required to split an internal node\n",
    "    \"min_samples_leaf\": [1, 2, 4],           # Minimum number of samples required to be at a leaf node\n",
    "    \"criterion\": [\"squared_error\", \"friedman_mse\", \"absolute_error\"],  # Function to measure the quality of a split\n",
    "}\n",
    "\n",
    "# Perform Grid Search with 5-fold cross-validation\n",
    "grid_search = GridSearchCV(estimator=tree_reg, param_grid=param_grid, cv=5, scoring='neg_mean_squared_error', n_jobs=-1, verbose=0)\n",
    "grid_search.fit(X_train, y_train)\n",
    "\n",
    "# Best parameters from grid search\n",
    "best_params = grid_search.best_params_\n",
    "print(\"Best parameters found: \", best_params)\n",
    "\n",
    "# Predict using the best estimator\n",
    "best_model = grid_search.best_estimator_\n",
    "\n",
    "\n",
    "y_pred_test = best_model.predict(X_test)\n",
    "y_pred_train = best_model.predict(X_train)\n",
    "\n",
    "\n",
    "results = {\n",
    "    \"model\": \"Decision Tree Regressor (Tuned)\",\n",
    "    \"r2_test\": r2_score(y_pred_test, y_test),\n",
    "    \"r2_train\": r2_score(y_pred_train, y_train),\n",
    "    \"mae_test\": mean_absolute_error(y_pred_test, y_test),\n",
    "    \"mae_train\": mean_absolute_error(y_pred_train, y_train),\n",
    "    \"mse_test\": mean_squared_error(y_pred_test, y_test),\n",
    "    \"mse_train\": mean_squared_error(y_pred_train, y_train)\n",
    "}\n",
    "all_results.append(results)"
   ]
  },
  {
   "cell_type": "markdown",
   "metadata": {},
   "source": [
    "## 6. Random Fores"
   ]
  },
  {
   "cell_type": "code",
   "execution_count": 751,
   "metadata": {},
   "outputs": [
    {
     "name": "stdout",
     "output_type": "stream",
     "text": [
      "Random Forest Regression MSE: 70027.50\n",
      "Random Forest Regression R²: 0.95\n"
     ]
    }
   ],
   "source": [
    "import numpy as np\n",
    "from sklearn.ensemble import RandomForestRegressor\n",
    "from sklearn.metrics import mean_squared_error, r2_score\n",
    "from sklearn.model_selection import train_test_split\n",
    "\n",
    "# Fit the model\n",
    "forest_reg = RandomForestRegressor(n_estimators=100, random_state=42)\n",
    "forest_reg.fit(X_train, np.array(y_train).ravel())\n",
    "\n",
    "# Predict and evaluate\n",
    "y_pred = forest_reg.predict(X_test)\n",
    "mse = mean_squared_error(y_test, y_pred)\n",
    "r2 = r2_score(y_test, y_pred)\n",
    "\n",
    "print(f\"Random Forest Regression MSE: {mse:.2f}\")\n",
    "print(f\"Random Forest Regression R²: {r2:.2f}\")\n",
    "\n",
    "\n",
    "y_pred_test = forest_reg.predict(X_test)\n",
    "y_pred_train = forest_reg.predict(X_train)\n",
    "\n",
    "\n",
    "results = {\n",
    "    \"model\": \"Random Forest Regressor\",\n",
    "    \"r2_test\": r2_score(y_pred_test, y_test),\n",
    "    \"r2_train\": r2_score(y_pred_train, y_train),\n",
    "    \"mae_test\": mean_absolute_error(y_pred_test, y_test),\n",
    "    \"mae_train\": mean_absolute_error(y_pred_train, y_train),\n",
    "    \"mse_test\": mean_squared_error(y_pred_test, y_test),\n",
    "    \"mse_train\": mean_squared_error(y_pred_train, y_train)\n",
    "}\n",
    "all_results.append(results)"
   ]
  },
  {
   "cell_type": "code",
   "execution_count": 752,
   "metadata": {},
   "outputs": [
    {
     "name": "stdout",
     "output_type": "stream",
     "text": [
      "Best parameters found:  {'max_depth': None, 'min_samples_leaf': 1, 'min_samples_split': 2, 'n_estimators': 100}\n"
     ]
    }
   ],
   "source": [
    "import numpy as np\n",
    "from sklearn.ensemble import RandomForestRegressor\n",
    "from sklearn.model_selection import GridSearchCV, train_test_split\n",
    "from sklearn.metrics import mean_squared_error, r2_score\n",
    "\n",
    "# Initialize the Random Forest Regressor\n",
    "forest_reg = RandomForestRegressor(random_state=42)\n",
    "\n",
    "# Define the parameter grid\n",
    "param_grid = {\n",
    "    \"n_estimators\": [50, 100, 200],          # Number of trees in the forest\n",
    "    \"max_depth\": [None, 3, 5, 7],            # Maximum depth of the tree\n",
    "    \"min_samples_split\": [2, 5, 10],         # Minimum number of samples required to split an internal node\n",
    "    \"min_samples_leaf\": [1, 2, 4],           # Minimum number of samples required to be at a leaf node\n",
    "}\n",
    "\n",
    "# Perform Grid Search with 5-fold cross-validation\n",
    "grid_search = GridSearchCV(estimator=forest_reg, param_grid=param_grid, cv=5, scoring='neg_mean_squared_error', n_jobs=-1, verbose=0)\n",
    "grid_search.fit(X_train, np.array(y_train).ravel())\n",
    "\n",
    "# Best parameters from grid search\n",
    "best_params = grid_search.best_params_\n",
    "print(\"Best parameters found: \", best_params)\n",
    "\n",
    "# Predict using the best estimator\n",
    "best_model = grid_search.best_estimator_\n",
    "\n",
    "y_pred_test = best_model.predict(X_test)\n",
    "y_pred_train = best_model.predict(X_train)\n",
    "\n",
    "results = {\n",
    "    \"model\": \"Random Forest Regressor (Tuned)\",\n",
    "    \"r2_test\": r2_score(y_pred_test, y_test),\n",
    "    \"r2_train\": r2_score(y_pred_train, y_train),\n",
    "    \"mae_test\": mean_absolute_error(y_pred_test, y_test),\n",
    "    \"mae_train\": mean_absolute_error(y_pred_train, y_train),\n",
    "    \"mse_test\": mean_squared_error(y_pred_test, y_test),\n",
    "    \"mse_train\": mean_squared_error(y_pred_train, y_train)\n",
    "}\n",
    "all_results.append(results)\n"
   ]
  },
  {
   "cell_type": "markdown",
   "metadata": {},
   "source": [
    "## 7. Adaptive Boosting (Adaboost)"
   ]
  },
  {
   "cell_type": "code",
   "execution_count": 753,
   "metadata": {},
   "outputs": [],
   "source": [
    "import numpy as np\n",
    "from sklearn.ensemble import AdaBoostRegressor\n",
    "from sklearn.tree import DecisionTreeRegressor\n",
    "from sklearn.metrics import mean_squared_error, r2_score\n",
    "from sklearn.model_selection import train_test_split\n",
    "\n",
    "# Initialize the base regressor and AdaBoost Regressor\n",
    "base_reg = DecisionTreeRegressor(max_depth=3, random_state=42)\n",
    "ada_reg = AdaBoostRegressor(estimator=base_reg, n_estimators=100, random_state=42)\n",
    "\n",
    "# Fit the model\n",
    "ada_reg.fit(X_train, np.array(y_train).ravel())\n",
    "\n",
    "\n",
    "y_pred_test = ada_reg.predict(X_test)\n",
    "y_pred_train = ada_reg.predict(X_train)\n",
    "\n",
    "results = {\n",
    "    \"model\": \"AdaBoost (with DTs)\",\n",
    "    \"r2_test\": r2_score(y_pred_test, y_test),\n",
    "    \"r2_train\": r2_score(y_pred_train, y_train),\n",
    "    \"mae_test\": mean_absolute_error(y_pred_test, y_test),\n",
    "    \"mae_train\": mean_absolute_error(y_pred_train, y_train),\n",
    "    \"mse_test\": mean_squared_error(y_pred_test, y_test),\n",
    "    \"mse_train\": mean_squared_error(y_pred_train, y_train)\n",
    "}\n",
    "all_results.append(results)\n"
   ]
  },
  {
   "cell_type": "code",
   "execution_count": null,
   "metadata": {},
   "outputs": [],
   "source": []
  },
  {
   "cell_type": "markdown",
   "metadata": {},
   "source": [
    "Known issue on Mac: You are running 32-bit Python on a 64-bit OS\n",
    "\n",
    "Solution\n",
    "\n",
    "brew install libomp"
   ]
  },
  {
   "cell_type": "markdown",
   "metadata": {},
   "source": [
    "## 8. XGBooosting"
   ]
  },
  {
   "cell_type": "code",
   "execution_count": 754,
   "metadata": {},
   "outputs": [],
   "source": [
    "import numpy as np\n",
    "from xgboost import XGBRegressor\n",
    "from sklearn.metrics import mean_squared_error, r2_score\n",
    "from sklearn.model_selection import train_test_split\n",
    "\n",
    "# Initialize the XGBoost Regressor\n",
    "xgb_reg = XGBRegressor(n_estimators=100, learning_rate=0.1, max_depth=3, random_state=42)\n",
    "\n",
    "# Fit the model\n",
    "xgb_reg.fit(X_train, np.array(y_train).ravel())\n",
    "\n",
    "y_pred_test = xgb_reg.predict(X_test)\n",
    "y_pred_train = xgb_reg.predict(X_train)\n",
    "\n",
    "results = {\n",
    "    \"model\": \"XGBoost Regressor\",\n",
    "    \"r2_test\": r2_score(y_pred_test, y_test),\n",
    "    \"r2_train\": r2_score(y_pred_train, y_train),\n",
    "    \"mae_test\": mean_absolute_error(y_pred_test, y_test),\n",
    "    \"mae_train\": mean_absolute_error(y_pred_train, y_train),\n",
    "    \"mse_test\": mean_squared_error(y_pred_test, y_test),\n",
    "    \"mse_train\": mean_squared_error(y_pred_train, y_train)\n",
    "}\n",
    "all_results.append(results)"
   ]
  },
  {
   "cell_type": "code",
   "execution_count": 755,
   "metadata": {},
   "outputs": [
    {
     "name": "stdout",
     "output_type": "stream",
     "text": [
      "Best parameters found:  {'colsample_bytree': 0.6, 'gamma': 0, 'learning_rate': 0.2, 'max_depth': 5, 'min_child_weight': 1, 'n_estimators': 50, 'reg_alpha': 0.1, 'reg_lambda': 2, 'subsample': 0.6}\n"
     ]
    }
   ],
   "source": [
    "import numpy as np\n",
    "from xgboost import XGBRegressor\n",
    "from sklearn.model_selection import GridSearchCV, train_test_split\n",
    "from sklearn.metrics import mean_squared_error, r2_score\n",
    "\n",
    "\n",
    "# Initialize the XGBoost Regressor\n",
    "xgb_reg = XGBRegressor(random_state=42)\n",
    "\n",
    "# Define the parameter grid\n",
    "# param_grid = {\n",
    "#     \"n_estimators\": [50, 100, 200],\n",
    "#     \"learning_rate\": [0.01, 0.1, 0.2],\n",
    "#     \"max_depth\": [3, 5, 7],\n",
    "#     \"min_child_weight\": [1, 3, 5],\n",
    "#     \"subsample\": [0.6, 0.8, 1.0],\n",
    "#     \"colsample_bytree\": [0.6, 0.8, 1.0],\n",
    "#     \"gamma\": [0, 0.1, 0.2],\n",
    "#     \"reg_alpha\": [0, 0.01, 0.1],\n",
    "#     \"reg_lambda\": [1, 1.5, 2],\n",
    "# }\n",
    "\n",
    "# # Perform Grid Search with 5-fold cross-validation\n",
    "# grid_search = GridSearchCV(estimator=xgb_reg, param_grid=param_grid, cv=5, scoring='neg_mean_squared_error', n_jobs=-1, verbose=0)\n",
    "# grid_search.fit(X_train, np.array(y_train).ravel())\n",
    "\n",
    "# Best parameters from grid search\n",
    "best_params = {'colsample_bytree': 0.6, 'gamma': 0, 'learning_rate': 0.2, 'max_depth': 5, 'min_child_weight': 1, 'n_estimators': 50, 'reg_alpha': 0.1, 'reg_lambda': 2, 'subsample': 0.6}\n",
    "print(\"Best parameters found: \", best_params)\n",
    "\n",
    "# Predict using the best estimator\n",
    "best_model = grid_search.best_estimator_\n",
    "\n",
    "\n",
    "y_pred_test = best_model.predict(X_test)\n",
    "y_pred_train = best_model.predict(X_train)\n",
    "\n",
    "results = {\n",
    "    \"model\": \"XGBoost Regressor (Tuned)\",\n",
    "    \"r2_test\": r2_score(y_pred_test, y_test),\n",
    "    \"r2_train\": r2_score(y_pred_train, y_train),\n",
    "    \"mae_test\": mean_absolute_error(y_pred_test, y_test),\n",
    "    \"mae_train\": mean_absolute_error(y_pred_train, y_train),\n",
    "    \"mse_test\": mean_squared_error(y_pred_test, y_test),\n",
    "    \"mse_train\": mean_squared_error(y_pred_train, y_train)\n",
    "}\n",
    "all_results.append(results)"
   ]
  },
  {
   "cell_type": "code",
   "execution_count": 756,
   "metadata": {},
   "outputs": [
    {
     "data": {
      "text/html": [
       "<div>\n",
       "<style scoped>\n",
       "    .dataframe tbody tr th:only-of-type {\n",
       "        vertical-align: middle;\n",
       "    }\n",
       "\n",
       "    .dataframe tbody tr th {\n",
       "        vertical-align: top;\n",
       "    }\n",
       "\n",
       "    .dataframe thead th {\n",
       "        text-align: right;\n",
       "    }\n",
       "</style>\n",
       "<table border=\"1\" class=\"dataframe\">\n",
       "  <thead>\n",
       "    <tr style=\"text-align: right;\">\n",
       "      <th></th>\n",
       "      <th>model</th>\n",
       "      <th>r2_test</th>\n",
       "      <th>r2_train</th>\n",
       "      <th>mae_test</th>\n",
       "      <th>mae_train</th>\n",
       "      <th>mse_test</th>\n",
       "      <th>mse_train</th>\n",
       "    </tr>\n",
       "  </thead>\n",
       "  <tbody>\n",
       "    <tr>\n",
       "      <th>0</th>\n",
       "      <td>LinearRegression</td>\n",
       "      <td>0.93</td>\n",
       "      <td>0.92</td>\n",
       "      <td>206.86</td>\n",
       "      <td>221.78</td>\n",
       "      <td>82194.84</td>\n",
       "      <td>105127.43</td>\n",
       "    </tr>\n",
       "    <tr>\n",
       "      <th>1</th>\n",
       "      <td>Ridge Regression</td>\n",
       "      <td>0.93</td>\n",
       "      <td>0.91</td>\n",
       "      <td>210.39</td>\n",
       "      <td>227.77</td>\n",
       "      <td>81753.06</td>\n",
       "      <td>106623.92</td>\n",
       "    </tr>\n",
       "    <tr>\n",
       "      <th>2</th>\n",
       "      <td>Lasso Regression</td>\n",
       "      <td>0.93</td>\n",
       "      <td>0.91</td>\n",
       "      <td>211.40</td>\n",
       "      <td>224.56</td>\n",
       "      <td>84946.98</td>\n",
       "      <td>106115.15</td>\n",
       "    </tr>\n",
       "    <tr>\n",
       "      <th>3</th>\n",
       "      <td>Polynomial Regression</td>\n",
       "      <td>0.90</td>\n",
       "      <td>0.95</td>\n",
       "      <td>233.07</td>\n",
       "      <td>186.24</td>\n",
       "      <td>119734.99</td>\n",
       "      <td>65182.66</td>\n",
       "    </tr>\n",
       "    <tr>\n",
       "      <th>4</th>\n",
       "      <td>Decision Tree Regressor</td>\n",
       "      <td>0.94</td>\n",
       "      <td>1.00</td>\n",
       "      <td>158.52</td>\n",
       "      <td>11.58</td>\n",
       "      <td>87122.12</td>\n",
       "      <td>2353.93</td>\n",
       "    </tr>\n",
       "    <tr>\n",
       "      <th>5</th>\n",
       "      <td>Decision Tree Regressor (Tuned)</td>\n",
       "      <td>0.92</td>\n",
       "      <td>0.92</td>\n",
       "      <td>207.59</td>\n",
       "      <td>163.22</td>\n",
       "      <td>97147.14</td>\n",
       "      <td>102598.53</td>\n",
       "    </tr>\n",
       "    <tr>\n",
       "      <th>6</th>\n",
       "      <td>Random Forest Regressor</td>\n",
       "      <td>0.94</td>\n",
       "      <td>0.99</td>\n",
       "      <td>160.90</td>\n",
       "      <td>68.55</td>\n",
       "      <td>70027.50</td>\n",
       "      <td>17613.83</td>\n",
       "    </tr>\n",
       "    <tr>\n",
       "      <th>7</th>\n",
       "      <td>Random Forest Regressor (Tuned)</td>\n",
       "      <td>0.94</td>\n",
       "      <td>0.99</td>\n",
       "      <td>160.90</td>\n",
       "      <td>68.55</td>\n",
       "      <td>70027.50</td>\n",
       "      <td>17613.83</td>\n",
       "    </tr>\n",
       "    <tr>\n",
       "      <th>8</th>\n",
       "      <td>AdaBoost (with DTs)</td>\n",
       "      <td>0.94</td>\n",
       "      <td>0.96</td>\n",
       "      <td>199.20</td>\n",
       "      <td>196.67</td>\n",
       "      <td>71520.17</td>\n",
       "      <td>58043.30</td>\n",
       "    </tr>\n",
       "    <tr>\n",
       "      <th>9</th>\n",
       "      <td>XGBoost Regressor</td>\n",
       "      <td>0.95</td>\n",
       "      <td>0.98</td>\n",
       "      <td>170.86</td>\n",
       "      <td>104.77</td>\n",
       "      <td>66187.41</td>\n",
       "      <td>24695.57</td>\n",
       "    </tr>\n",
       "    <tr>\n",
       "      <th>10</th>\n",
       "      <td>XGBoost Regressor (Tuned)</td>\n",
       "      <td>0.94</td>\n",
       "      <td>0.99</td>\n",
       "      <td>160.90</td>\n",
       "      <td>68.55</td>\n",
       "      <td>70027.50</td>\n",
       "      <td>17613.83</td>\n",
       "    </tr>\n",
       "  </tbody>\n",
       "</table>\n",
       "</div>"
      ],
      "text/plain": [
       "                              model  r2_test  r2_train  mae_test  mae_train  \\\n",
       "0                  LinearRegression     0.93      0.92    206.86     221.78   \n",
       "1                  Ridge Regression     0.93      0.91    210.39     227.77   \n",
       "2                  Lasso Regression     0.93      0.91    211.40     224.56   \n",
       "3             Polynomial Regression     0.90      0.95    233.07     186.24   \n",
       "4           Decision Tree Regressor     0.94      1.00    158.52      11.58   \n",
       "5   Decision Tree Regressor (Tuned)     0.92      0.92    207.59     163.22   \n",
       "6           Random Forest Regressor     0.94      0.99    160.90      68.55   \n",
       "7   Random Forest Regressor (Tuned)     0.94      0.99    160.90      68.55   \n",
       "8               AdaBoost (with DTs)     0.94      0.96    199.20     196.67   \n",
       "9                 XGBoost Regressor     0.95      0.98    170.86     104.77   \n",
       "10        XGBoost Regressor (Tuned)     0.94      0.99    160.90      68.55   \n",
       "\n",
       "    mse_test  mse_train  \n",
       "0   82194.84  105127.43  \n",
       "1   81753.06  106623.92  \n",
       "2   84946.98  106115.15  \n",
       "3  119734.99   65182.66  \n",
       "4   87122.12    2353.93  \n",
       "5   97147.14  102598.53  \n",
       "6   70027.50   17613.83  \n",
       "7   70027.50   17613.83  \n",
       "8   71520.17   58043.30  \n",
       "9   66187.41   24695.57  \n",
       "10  70027.50   17613.83  "
      ]
     },
     "execution_count": 756,
     "metadata": {},
     "output_type": "execute_result"
    }
   ],
   "source": [
    "pd.DataFrame(all_results)"
   ]
  },
  {
   "cell_type": "code",
   "execution_count": null,
   "metadata": {},
   "outputs": [],
   "source": []
  },
  {
   "cell_type": "code",
   "execution_count": null,
   "metadata": {},
   "outputs": [],
   "source": []
  },
  {
   "cell_type": "code",
   "execution_count": null,
   "metadata": {},
   "outputs": [],
   "source": []
  },
  {
   "cell_type": "code",
   "execution_count": null,
   "metadata": {},
   "outputs": [],
   "source": []
  },
  {
   "cell_type": "code",
   "execution_count": null,
   "metadata": {},
   "outputs": [],
   "source": []
  },
  {
   "cell_type": "code",
   "execution_count": null,
   "metadata": {},
   "outputs": [],
   "source": []
  },
  {
   "cell_type": "code",
   "execution_count": null,
   "metadata": {},
   "outputs": [],
   "source": []
  },
  {
   "cell_type": "code",
   "execution_count": null,
   "metadata": {},
   "outputs": [],
   "source": []
  }
 ],
 "metadata": {
  "kernelspec": {
   "display_name": "venv-greatlearning",
   "language": "python",
   "name": "python3"
  },
  "language_info": {
   "codemirror_mode": {
    "name": "ipython",
    "version": 3
   },
   "file_extension": ".py",
   "mimetype": "text/x-python",
   "name": "python",
   "nbconvert_exporter": "python",
   "pygments_lexer": "ipython3",
   "version": "3.12.2"
  }
 },
 "nbformat": 4,
 "nbformat_minor": 2
}
